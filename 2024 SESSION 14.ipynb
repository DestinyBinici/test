{
 "cells": [
  {
   "cell_type": "code",
   "execution_count": 1,
   "metadata": {},
   "outputs": [
    {
     "data": {
      "text/plain": [
       "11"
      ]
     },
     "execution_count": 1,
     "metadata": {},
     "output_type": "execute_result"
    }
   ],
   "source": [
    "5 + 6"
   ]
  },
  {
   "cell_type": "code",
   "execution_count": null,
   "metadata": {},
   "outputs": [],
   "source": [
    "odev; [1,5,6,7,12,14,15,18,19,32,25] listesinin  tek elemanlarinin karesinin, cift elemanlarinin 2 katini liste halinde \n",
    "donduren while dongusunu yazin"
   ]
  },
  {
   "cell_type": "code",
   "execution_count": 1,
   "metadata": {},
   "outputs": [
    {
     "name": "stdout",
     "output_type": "stream",
     "text": [
      "[1, 25, 12, 49, 24, 28, 225, 36, 361, 64, 625]\n"
     ]
    }
   ],
   "source": [
    "sayilar_listesi = [1,5,6,7,12,14,15,18,19,32,25]\n",
    "\n",
    "x = 0\n",
    "result = []\n",
    "while x < len(sayilar_listesi):\n",
    "    if sayilar_listesi[x] % 2 :\n",
    "        result.append(sayilar_listesi[x] ** 2)\n",
    "    else:\n",
    "        result.append(sayilar_listesi[x] * 2)\n",
    "    x += 1\n",
    "print(result)"
   ]
  },
  {
   "cell_type": "code",
   "execution_count": 5,
   "metadata": {},
   "outputs": [
    {
     "name": "stdout",
     "output_type": "stream",
     "text": [
      "bu kod cikti verir\n"
     ]
    }
   ],
   "source": [
    "if 5 % 2:         #Kalan 1 o yuzden True\n",
    "    print(\"bu kod cikti verir\")      "
   ]
  },
  {
   "cell_type": "code",
   "execution_count": 6,
   "metadata": {},
   "outputs": [],
   "source": [
    "if 6 % 2:           #Kalan 0 yani False\n",
    "    print(\"bu kod cikti vermez\")"
   ]
  },
  {
   "cell_type": "code",
   "execution_count": 4,
   "metadata": {},
   "outputs": [
    {
     "name": "stdout",
     "output_type": "stream",
     "text": [
      "[1, 25, 12, 49, 24, 28, 225, 36, 361, 64, 625]\n"
     ]
    }
   ],
   "source": [
    "sayilar_listesi = [1,5,6,7,12,14,15,18,19,32,25]\n",
    "\n",
    "x = 0\n",
    "result = []\n",
    "while x < len(sayilar_listesi):\n",
    "    if sayilar_listesi[x] % 2 == 1:\n",
    "        result.append(sayilar_listesi[x] ** 2)\n",
    "    else:\n",
    "        result.append(sayilar_listesi[x] * 2)\n",
    "    x += 1\n",
    "print(result)"
   ]
  },
  {
   "cell_type": "code",
   "execution_count": null,
   "metadata": {},
   "outputs": [],
   "source": [
    "#TEK VEYA CIFT SAYILAR tam sayilar icin gecerlidir"
   ]
  },
  {
   "cell_type": "markdown",
   "metadata": {},
   "source": [
    "### RANDOM MODULU"
   ]
  },
  {
   "cell_type": "code",
   "execution_count": null,
   "metadata": {},
   "outputs": [],
   "source": []
  },
  {
   "cell_type": "code",
   "execution_count": 7,
   "metadata": {},
   "outputs": [],
   "source": [
    "import    # import ifadesi modulu dosyaya aktarmak icin kullanilir"
   ]
  },
  {
   "cell_type": "code",
   "execution_count": 1,
   "metadata": {},
   "outputs": [],
   "source": [
    "import random"
   ]
  },
  {
   "cell_type": "code",
   "execution_count": 15,
   "metadata": {},
   "outputs": [
    {
     "data": {
      "text/plain": [
       "0.4972604593613206"
      ]
     },
     "execution_count": 15,
     "metadata": {},
     "output_type": "execute_result"
    }
   ],
   "source": [
    "random.random()  # 0 dahil 1 dahil degil araliginda uretir."
   ]
  },
  {
   "cell_type": "code",
   "execution_count": 18,
   "metadata": {},
   "outputs": [
    {
     "data": {
      "text/plain": [
       "0.6820045605879779"
      ]
     },
     "execution_count": 18,
     "metadata": {},
     "output_type": "execute_result"
    }
   ],
   "source": [
    "random.seed(37)   #Belli bir sabite gore ayni degerleri rassa luretir\n",
    "random.random()\n"
   ]
  },
  {
   "cell_type": "code",
   "execution_count": 40,
   "metadata": {},
   "outputs": [
    {
     "data": {
      "text/plain": [
       "3"
      ]
     },
     "execution_count": 40,
     "metadata": {},
     "output_type": "execute_result"
    }
   ],
   "source": [
    "random.randint(1, 6) # rastgele sayi uretir"
   ]
  },
  {
   "cell_type": "code",
   "execution_count": 41,
   "metadata": {},
   "outputs": [
    {
     "data": {
      "text/plain": [
       "[46, 82, 90, 55, 75]"
      ]
     },
     "execution_count": 41,
     "metadata": {},
     "output_type": "execute_result"
    }
   ],
   "source": [
    "random.sample(range (100),5) # belli bir araliktan sayilar uretir"
   ]
  },
  {
   "cell_type": "code",
   "execution_count": 43,
   "metadata": {},
   "outputs": [
    {
     "name": "stdout",
     "output_type": "stream",
     "text": [
      "Girdiğiniz sayı : 55. Tahminini azalt\n",
      "Girdiğiniz sayı : 45. Tahminini arttır\n",
      "Girdiğiniz sayı : 46. Tahminini arttır\n",
      "Girdiğiniz sayı : 47. Doğru bildiniz. Tebrikler. \n"
     ]
    }
   ],
   "source": [
    "y = True\n",
    "aklımdaki_sayı = random.randint(1, 100)\n",
    "while y:\n",
    "    tahmin = int(input(\"1 ile 100 arasında bir sayı tahmin edin.\"))\n",
    "    if aklımdaki_sayı < tahmin:\n",
    "        print(f\"Girdiğiniz sayı : {tahmin}. Tahminini azalt\")\n",
    "    elif aklımdaki_sayı > tahmin:\n",
    "        print(f\"Girdiğiniz sayı : {tahmin}. Tahminini arttır\")\n",
    "    else:\n",
    "        print(f\"Girdiğiniz sayı : {tahmin}. Doğru bildiniz. Tebrikler. \")\n",
    "        y = False  "
   ]
  },
  {
   "cell_type": "markdown",
   "metadata": {},
   "source": [
    "### BREAK, CONTINUE"
   ]
  },
  {
   "cell_type": "code",
   "execution_count": null,
   "metadata": {},
   "outputs": [],
   "source": [
    "y = True\n",
    "\n",
    "aklımdaki_sayı = random.randint(1,100)\n",
    "\n",
    "while y:\n",
    "\n",
    "    tahmin = int(input(\"1 ile 100 arasında bir sayı tahmin edin.\"))\n",
    "\n",
    "    if aklımdaki_sayı < tahmin:\n",
    "        print(f\"Girdiğiniz sayı : {tahmin}. Tahminini azalt\")\n",
    "\n",
    "    elif aklımdaki_sayı > tahmin:\n",
    "        print(f\"Girdiğiniz sayı : {tahmin}. Tahminini arttır\")\n",
    "\n",
    "    else:\n",
    "        print(f\"Girdiğiniz sayı : {tahmin}. Doğru bildiniz. Tebrikler. \")\n",
    "        y = False"
   ]
  },
  {
   "cell_type": "code",
   "execution_count": 44,
   "metadata": {},
   "outputs": [
    {
     "name": "stdout",
     "output_type": "stream",
     "text": [
      "Girdiğiniz sayı : 50. Tahminini arttır\n",
      "Girdiğiniz sayı : 55. Tahminini arttır\n",
      "Girdiğiniz sayı : 70. Tahminini arttır\n",
      "Girdiğiniz sayı : 90. Tahminini azalt\n",
      "Girdiğiniz sayı : 85. Tahminini azalt\n",
      "Girdiğiniz sayı : 85. Tahminini azalt\n",
      "Girdiğiniz sayı : 80. Tahminini arttır\n",
      "Girdiğiniz sayı : 79. Tahminini arttır\n",
      "Girdiğiniz sayı : 80. Tahminini arttır\n",
      "Girdiğiniz sayı : 81. Tahminini arttır\n",
      "Girdiğiniz sayı : 82. Doğru bildiniz. Tebrikler. \n"
     ]
    }
   ],
   "source": [
    "\n",
    "aklımdaki_sayı = random.randint(1, 100)\n",
    "\n",
    "while True :\n",
    "    tahmin = int(input(\"1 ile 100 arasında bir sayı tahmin edin.\"))\n",
    "    if aklımdaki_sayı < tahmin:\n",
    "        print(f\"Girdiğiniz sayı : {tahmin}. Tahminini azalt\")\n",
    "    elif aklımdaki_sayı > tahmin:\n",
    "        print(f\"Girdiğiniz sayı : {tahmin}. Tahminini arttır\")\n",
    "    else:\n",
    "        print(f\"Girdiğiniz sayı : {tahmin}. Doğru bildiniz. Tebrikler. \")\n",
    "        break "
   ]
  },
  {
   "cell_type": "code",
   "execution_count": 47,
   "metadata": {},
   "outputs": [
    {
     "name": "stdout",
     "output_type": "stream",
     "text": [
      "Girdiğiniz sayı : 50. Tahminini azalt\n",
      "Girdiğiniz sayı : 40. Tahminini azalt\n",
      "Girdiğiniz sayı : 30. Tahminini azalt\n",
      "Girdiğiniz sayı : 0. Tahminini arttır\n",
      "Girdiğiniz sayı : 20. Tahminini azalt\n",
      "5 hakkın bitti. sayı 5\n"
     ]
    }
   ],
   "source": [
    "import time\n",
    "aklımdaki_sayı = random.randint(1,100)\n",
    "\n",
    "time.sleep(2)\n",
    "\n",
    "sayaç = 0\n",
    "\n",
    "while True:\n",
    "\n",
    "    tahmin = int(input(\"1 ile 100 arasında bir sayı tahmin edin.\"))\n",
    "\n",
    "    sayaç += 1\n",
    "\n",
    "    time.sleep(2)\n",
    "\n",
    "    if aklımdaki_sayı < tahmin:\n",
    "        print(f\"Girdiğiniz sayı : {tahmin}. Tahminini azalt\")\n",
    "\n",
    "    elif aklımdaki_sayı > tahmin:\n",
    "        print(f\"Girdiğiniz sayı : {tahmin}. Tahminini arttır\")\n",
    "\n",
    "    else:\n",
    "        print(f\"Girdiğiniz sayı : {tahmin}. Doğru bildiniz. Tebrikler. \")\n",
    "        break\n",
    "\n",
    "    time.sleep(2)\n",
    "\n",
    "    if sayaç == 5:\n",
    "        print(f\"5 hakkın bitti. sayı {aklımdaki_sayı}\")\n",
    "        break"
   ]
  },
  {
   "cell_type": "code",
   "execution_count": 9,
   "metadata": {},
   "outputs": [
    {
     "ename": "SyntaxError",
     "evalue": "invalid syntax (1227077384.py, line 1)",
     "output_type": "error",
     "traceback": [
      "\u001b[1;36m  Cell \u001b[1;32mIn[9], line 1\u001b[1;36m\u001b[0m\n\u001b[1;33m    liste = [1, 2, 3, 4, \"Techpro\", 5,6,7] sirayla integer ifadelerin toplamini yazdirin ancak string bir\u001b[0m\n\u001b[1;37m                                           ^\u001b[0m\n\u001b[1;31mSyntaxError\u001b[0m\u001b[1;31m:\u001b[0m invalid syntax\n"
     ]
    }
   ],
   "source": [
    "liste = [1, 2, 3, 4, \"Techpro\", 5,6,7] sirayla integer ifadelerin toplamini yazdirin ancak string bir \n",
    "ifade gelirse dongu bitsin."
   ]
  },
  {
   "cell_type": "code",
   "execution_count": 12,
   "metadata": {},
   "outputs": [
    {
     "name": "stdout",
     "output_type": "stream",
     "text": [
      "10\n"
     ]
    }
   ],
   "source": [
    "liste = [1, 2, 3, 4, \"Techpro\", 5,6,7]\n",
    "\n",
    "x = 0 \n",
    "\n",
    "toplam = 0\n",
    "\n",
    "while x < len(liste):\n",
    "\n",
    "    if type(liste[x])== int:\n",
    "       toplam += liste[x]\n",
    "    elif type(liste[x] == str):\n",
    "       break\n",
    "    x += 1\n",
    "print(toplam)\n"
   ]
  },
  {
   "cell_type": "code",
   "execution_count": 51,
   "metadata": {},
   "outputs": [
    {
     "name": "stdout",
     "output_type": "stream",
     "text": [
      "10\n"
     ]
    }
   ],
   "source": [
    "liste = [1, 2, 3, 4, \"Techpro\", 5, 6, 7] # sırayla int değerleri toplayın. str ifadeye denk gelince kod sonlansın\n",
    "\n",
    "x = 0\n",
    "\n",
    "toplam = 0\n",
    "\n",
    "while x < len(liste):\n",
    "\n",
    "    if type(liste[x]) == int:\n",
    "        toplam += liste[x]\n",
    "\n",
    "    elif type(liste[x]) == str:\n",
    "        break\n",
    "\n",
    "    x += 1\n",
    "\n",
    "print(toplam)"
   ]
  },
  {
   "cell_type": "code",
   "execution_count": 57,
   "metadata": {},
   "outputs": [
    {
     "name": "stdout",
     "output_type": "stream",
     "text": [
      "28\n"
     ]
    }
   ],
   "source": [
    "liste = [1, 2, 3, 4, \"Techpro\", 5, 6, 7] # sırayla int değerleri toplayın. str ifadeye denk gelince o ifadeyi atlayin ve devam edin\n",
    "\n",
    "x = 0\n",
    "\n",
    "toplam = 0\n",
    "\n",
    "while x < len(liste):\n",
    "\n",
    "    if type(liste[x]) == int:\n",
    "        toplam += liste[x]\n",
    "\n",
    "    elif type(liste[x]) == str:\n",
    "         x += 1\n",
    "         continue\n",
    "\n",
    "    x +=1\n",
    "\n",
    "print(toplam)"
   ]
  },
  {
   "cell_type": "markdown",
   "metadata": {},
   "source": [
    "### min(), max()"
   ]
  },
  {
   "cell_type": "code",
   "execution_count": 59,
   "metadata": {},
   "outputs": [],
   "source": [
    "liste = [2, 3, 4, 6, 8, 9, 456, 700]"
   ]
  },
  {
   "cell_type": "code",
   "execution_count": 61,
   "metadata": {},
   "outputs": [
    {
     "data": {
      "text/plain": [
       "2"
      ]
     },
     "execution_count": 61,
     "metadata": {},
     "output_type": "execute_result"
    }
   ],
   "source": [
    "min(liste)"
   ]
  },
  {
   "cell_type": "code",
   "execution_count": 62,
   "metadata": {},
   "outputs": [
    {
     "data": {
      "text/plain": [
       "700"
      ]
     },
     "execution_count": 62,
     "metadata": {},
     "output_type": "execute_result"
    }
   ],
   "source": [
    "max(liste)"
   ]
  },
  {
   "cell_type": "code",
   "execution_count": 65,
   "metadata": {},
   "outputs": [],
   "source": [
    "tuple =(5,8,4,6,9)"
   ]
  },
  {
   "cell_type": "code",
   "execution_count": 66,
   "metadata": {},
   "outputs": [
    {
     "data": {
      "text/plain": [
       "4"
      ]
     },
     "execution_count": 66,
     "metadata": {},
     "output_type": "execute_result"
    }
   ],
   "source": [
    "min(tuple)"
   ]
  },
  {
   "cell_type": "code",
   "execution_count": 64,
   "metadata": {},
   "outputs": [
    {
     "data": {
      "text/plain": [
       "'ayhan'"
      ]
     },
     "execution_count": 64,
     "metadata": {},
     "output_type": "execute_result"
    }
   ],
   "source": [
    "min(\"techpro\", \"ayhan\", \"irem\") # ASCII CODUNA GORE"
   ]
  },
  {
   "cell_type": "markdown",
   "metadata": {},
   "source": [
    "liste_1 = [4,5,6,9,85,23,65,47,32,91] listenin en küçük ve en büyük elemanını min ve max fpnksiyonu kullanmadan bulun.\n",
    "sort fonk da kullanmayın."
   ]
  },
  {
   "cell_type": "code",
   "execution_count": 1,
   "metadata": {},
   "outputs": [],
   "source": [
    "liste_1 = [4,5,6,9,85,23,65,47,32,91]"
   ]
  },
  {
   "cell_type": "code",
   "execution_count": 1,
   "metadata": {},
   "outputs": [
    {
     "name": "stdout",
     "output_type": "stream",
     "text": [
      "en kucuk eleman: {4}\n",
      "en buyuk eleman: {91}\n"
     ]
    }
   ],
   "source": [
    "liste_1 = [4,5,6,9,85,23,65,47,32,91]\n",
    "\n",
    "x = 0\n",
    "\n",
    "min_sayi = liste_1 [0]\n",
    "\n",
    "max_sayi = liste_1 [0]\n",
    "\n",
    "while x < len(liste_1):\n",
    "\n",
    "    if liste_1[x] > max_sayi:\n",
    "      max_sayi = liste_1[x]\n",
    "    elif liste_1[x] < min_sayi:\n",
    "      min_sayi = liste_1[x]\n",
    "    x += 1\n",
    "print( f\"en kucuk eleman:\", {min_sayi})  \n",
    "print(f\"en buyuk eleman:\", {max_sayi})\n",
    "\n",
    "\n",
    "\n",
    "\n",
    "\n",
    "\n"
   ]
  }
 ],
 "metadata": {
  "kernelspec": {
   "display_name": "Python 3",
   "language": "python",
   "name": "python3"
  },
  "language_info": {
   "codemirror_mode": {
    "name": "ipython",
    "version": 3
   },
   "file_extension": ".py",
   "mimetype": "text/x-python",
   "name": "python",
   "nbconvert_exporter": "python",
   "pygments_lexer": "ipython3",
   "version": "3.11.8"
  }
 },
 "nbformat": 4,
 "nbformat_minor": 2
}
