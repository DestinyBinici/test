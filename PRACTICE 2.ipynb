{
 "cells": [
  {
   "cell_type": "code",
   "execution_count": 1,
   "metadata": {},
   "outputs": [
    {
     "data": {
      "text/plain": [
       "'hello'"
      ]
     },
     "execution_count": 1,
     "metadata": {},
     "output_type": "execute_result"
    }
   ],
   "source": [
    "\"hello\""
   ]
  },
  {
   "cell_type": "markdown",
   "metadata": {},
   "source": [
    "### 1- Kullanicidan input ile iki veri alin.Bu veriler tamsayi ise carpimini yazdirin"
   ]
  },
  {
   "cell_type": "code",
   "execution_count": 4,
   "metadata": {},
   "outputs": [
    {
     "name": "stdout",
     "output_type": "stream",
     "text": [
      "girilen degerlerden biri yada ikisi sayi formatinda degil\n"
     ]
    }
   ],
   "source": [
    "x = input(\"Lutfen bir sayi giriniz\")   # yazi ile bes ve alti girdik\n",
    "y = input(\"Lutfen bir sayi giriniz\")\n",
    "if x.isdigit() and y.isdigit():\n",
    "    print(int(x) * int(y))\n",
    "else:\n",
    "    print(\"girilen degerlerden biri yada ikisi sayi formatinda degil\")"
   ]
  },
  {
   "cell_type": "markdown",
   "metadata": {},
   "source": [
    "#### 2- Kullanicidan bir sayi isteyin.Syi tek ise 2 katini cift ise karesini yazdirin."
   ]
  },
  {
   "cell_type": "code",
   "execution_count": 6,
   "metadata": {},
   "outputs": [
    {
     "name": "stdout",
     "output_type": "stream",
     "text": [
      "girilen sayi: 59 tektir.118\n"
     ]
    }
   ],
   "source": [
    "x = int(input(\" Lutfen bir sayi giriniz\")) \n",
    "\n",
    "\n",
    "if x % 2: print(f\"girilen sayi: {x} tektir.{x *2}\") \n",
    "\n",
    "\n",
    "\n",
    "else:print(f\" girilen sayi:{x} cittir.{x ** 2}\")"
   ]
  },
  {
   "cell_type": "markdown",
   "metadata": {},
   "source": [
    "#### 3- Kullanicidan iki tam sayi isteyin.Sayilar esitse veya sayilarin farki 5 in kati ise True donduren algoritmayi yazin.Aksi takdirde False ciktisi almalisiniz"
   ]
  },
  {
   "cell_type": "code",
   "execution_count": 8,
   "metadata": {},
   "outputs": [
    {
     "name": "stdout",
     "output_type": "stream",
     "text": [
      "False\n"
     ]
    }
   ],
   "source": [
    "x = int(input(\"Lutfen bir sayi giriniz\"))\n",
    "y = int(input(\"Lutfen bir sayi giriniz\"))\n",
    "\n",
    "print(x == y or (x - y) % 5 == 0)"
   ]
  },
  {
   "cell_type": "markdown",
   "metadata": {},
   "source": [
    "#### 4- Kullaniciya sinavdan aldigi notu sorunuz.Denk gelen harf notunu yazdirin.0-100 araligi disinda girilen n otlarin gecersiz oldugunu belitmeyi unutmayin\n"
   ]
  },
  {
   "cell_type": "code",
   "execution_count": 2,
   "metadata": {},
   "outputs": [
    {
     "name": "stdout",
     "output_type": "stream",
     "text": [
      "sinav notunuz:70.0\n",
      "Notunuzun harf karsiligi:B\n"
     ]
    }
   ],
   "source": [
    "\n",
    "x = float(input(\"lutfen sinav sonucunu giriniz\"))\n",
    "\n",
    "if x <= x <= 100:\n",
    "    if x >= 80:\n",
    "        harf_notu = \"A\"\n",
    "    elif x >=65 :\n",
    "        harf_notu = \"B\"\n",
    "    elif x >= 55:\n",
    "        harf_notu = \"C\"\n",
    "    elif x >= 35:\n",
    "        harf_notu = \"D\"\n",
    "    else:\n",
    "        harf_notu = \"F\"\n",
    "    print(f\"sinav notunuz:{x}\\nNotunuzun harf karsiligi:{harf_notu}\")\n",
    "else:\n",
    "    print(\"sinav notunuzu lutfen 1 ile 100 arasinda giriniz\")"
   ]
  },
  {
   "cell_type": "markdown",
   "metadata": {},
   "source": [
    "Kullanicidan bir saniye degeri girmesini isteyin.girilen saniyeyi saat dakika ve sn cinsinden yazdirin.\n",
    "orn: 19500 sn >> 5 saat>> 25dk>> 20sn"
   ]
  },
  {
   "cell_type": "code",
   "execution_count": 7,
   "metadata": {},
   "outputs": [
    {
     "name": "stdout",
     "output_type": "stream",
     "text": [
      "girdiginiz10500 saniye = 2 saat, 55 dakika ve 0 saniye eder\n"
     ]
    }
   ],
   "source": [
    "girilen_saniye = int(input(\"lutfen hesaplanmasini istediginiz saniye degerini giriniz\")) \n",
    "saat = girilen_saniye // 3600      # bolumu istiyorsak saniye bolu 19520//3600=5 saat olacaktir.\n",
    "dakika = (girilen_saniye % 3600) // 60    # kalanlarini almak için mod alma işlemi yapıyoruz\n",
    "saniye = girilen_saniye % 60               #\n",
    "print(f\"girdiginiz{girilen_saniye} saniye = {saat} saat, {dakika} dakika ve {saniye} saniye eder\")   "
   ]
  },
  {
   "cell_type": "code",
   "execution_count": 3,
   "metadata": {},
   "outputs": [
    {
     "name": "stdout",
     "output_type": "stream",
     "text": [
      "Girdiğiniz 10500 saniye = 2 saat, 55 dakika ve 0 saniye eder\n"
     ]
    }
   ],
   "source": [
    "girilen_saniye = int(input(\"Lütfen hesaplanmasını istediğiniz saniye değerini giriniz:\"))\n",
    "\n",
    "saat = girilen_saniye // 3600\n",
    "\n",
    "dakika = (girilen_saniye % 3600) // 60\n",
    "\n",
    "saniye = girilen_saniye % 60\n",
    "\n",
    "print(f\"Girdiğiniz {girilen_saniye} saniye = {saat} saat, {dakika} dakika ve {saniye} saniye eder\")\n",
    "\n",
    "\n",
    "\n"
   ]
  },
  {
   "cell_type": "code",
   "execution_count": 4,
   "metadata": {},
   "outputs": [
    {
     "name": "stdout",
     "output_type": "stream",
     "text": [
      "Sınav notunuz: 70.0\n",
      "Notunuzun harf karşılığı: B\n"
     ]
    }
   ],
   "source": [
    "x = float(input(\"Lütfen sınav notunuzu giriniz\"))\n",
    "\n",
    "if 0 <= x <= 100:\n",
    "    if x >= 80:\n",
    "        harf_notu = \"A\"\n",
    "    elif x >= 65:\n",
    "        harf_notu = \"B\"\n",
    "    elif x >= 55:\n",
    "        harf_notu = \"C\"\n",
    "    elif x >= 35:\n",
    "        harf_notu = \"D\"\n",
    "    else:\n",
    "        harf_notu = \"F\"\n",
    "        \n",
    "    print(f\"Sınav notunuz: {x}\\nNotunuzun harf karşılığı: {harf_notu}\")\n",
    "else:\n",
    "    print(\"Sınav notunuzu lütfen 1 ile 100 arasında giriniz.\")\n",
    "\n"
   ]
  },
  {
   "cell_type": "code",
   "execution_count": 5,
   "metadata": {},
   "outputs": [
    {
     "name": "stdout",
     "output_type": "stream",
     "text": [
      "True\n"
     ]
    }
   ],
   "source": [
    "x = int(input(\"Lütfen bir sayı giriniz\"))\n",
    "y = int(input(\"Lütfen bir sayı giriniz\"))\n",
    "\n",
    "print(x == y or (x - y) % 5 == 0)"
   ]
  },
  {
   "cell_type": "code",
   "execution_count": 6,
   "metadata": {},
   "outputs": [
    {
     "name": "stdout",
     "output_type": "stream",
     "text": [
      "Girilen sayı: 39 tektir. 78\n"
     ]
    }
   ],
   "source": [
    "x= int(input(\"Lütfen bir sayı giriniz:\"))\n",
    "\n",
    "if x % 2: print(f\"Girilen sayı: {x} tektir. {x * 2}\")\n",
    "else: print(f\"Girilen sayı: {x} çifttir. {x ** 2}\")"
   ]
  },
  {
   "cell_type": "code",
   "execution_count": 7,
   "metadata": {},
   "outputs": [
    {
     "name": "stdout",
     "output_type": "stream",
     "text": [
      "4345\n"
     ]
    }
   ],
   "source": [
    "x = input(\"Lütfen bir sayı giriniz: \") # string\n",
    "y = input(\"Lütfen bir sayı giriniz: \")\n",
    "if x.isdigit() and y.isdigit():\n",
    "    print(int(x) * int(y))\n",
    "else:\n",
    "    print(\"Girilen değerlerden biri ya da ikisi sayı formatında değil.\")\n"
   ]
  },
  {
   "cell_type": "markdown",
   "metadata": {},
   "source": [
    "#### Round()"
   ]
  },
  {
   "cell_type": "code",
   "execution_count": 9,
   "metadata": {},
   "outputs": [
    {
     "data": {
      "text/plain": [
       "24"
      ]
     },
     "execution_count": 9,
     "metadata": {},
     "output_type": "execute_result"
    }
   ],
   "source": [
    "round(24.17)"
   ]
  },
  {
   "cell_type": "code",
   "execution_count": 10,
   "metadata": {},
   "outputs": [
    {
     "data": {
      "text/plain": [
       "24"
      ]
     },
     "execution_count": 10,
     "metadata": {},
     "output_type": "execute_result"
    }
   ],
   "source": [
    "round(24.1)"
   ]
  },
  {
   "cell_type": "code",
   "execution_count": 11,
   "metadata": {},
   "outputs": [
    {
     "data": {
      "text/plain": [
       "25"
      ]
     },
     "execution_count": 11,
     "metadata": {},
     "output_type": "execute_result"
    }
   ],
   "source": [
    "round(24.6)"
   ]
  },
  {
   "cell_type": "code",
   "execution_count": 12,
   "metadata": {},
   "outputs": [
    {
     "data": {
      "text/plain": [
       "24"
      ]
     },
     "execution_count": 12,
     "metadata": {},
     "output_type": "execute_result"
    }
   ],
   "source": [
    "round(24.5)"
   ]
  },
  {
   "cell_type": "code",
   "execution_count": 13,
   "metadata": {},
   "outputs": [
    {
     "data": {
      "text/plain": [
       "24"
      ]
     },
     "execution_count": 13,
     "metadata": {},
     "output_type": "execute_result"
    }
   ],
   "source": [
    "round(23.5)"
   ]
  },
  {
   "cell_type": "code",
   "execution_count": 14,
   "metadata": {},
   "outputs": [
    {
     "data": {
      "text/plain": [
       "40"
      ]
     },
     "execution_count": 14,
     "metadata": {},
     "output_type": "execute_result"
    }
   ],
   "source": [
    "round(39.5)   # tek sayi oldugu zaman 5 uste yuvarliyor"
   ]
  },
  {
   "cell_type": "code",
   "execution_count": 15,
   "metadata": {},
   "outputs": [
    {
     "data": {
      "text/plain": [
       "40"
      ]
     },
     "execution_count": 15,
     "metadata": {},
     "output_type": "execute_result"
    }
   ],
   "source": [
    "round(40.5)    # 41 e yuvarlamaz cunku ciftsayi  oldugu zaman 5 alta yuvarliyor "
   ]
  },
  {
   "cell_type": "markdown",
   "metadata": {},
   "source": [
    "### format string & f string"
   ]
  },
  {
   "cell_type": "code",
   "execution_count": 8,
   "metadata": {},
   "outputs": [
    {
     "name": "stdout",
     "output_type": "stream",
     "text": [
      "My name is Ahmet Altın and \n",
      "I'm 36 years old.\n"
     ]
    }
   ],
   "source": [
    "\n",
    "name = \"Ahmet\"\n",
    "surName = \"Altın\"\n",
    "age = 36\n",
    "\n",
    "greeting = \"My name is \" + name + \" \" + surName + \" and \\nI'm \" + str(age) + \" years old.\"\n",
    "\n",
    "print(greeting)"
   ]
  },
  {
   "cell_type": "code",
   "execution_count": 9,
   "metadata": {},
   "outputs": [
    {
     "name": "stdout",
     "output_type": "stream",
     "text": [
      "My name is Ahmet Altın and \n",
      "I'm 36 years old.\n"
     ]
    }
   ],
   "source": [
    "name = \"Ahmet\"\n",
    "surName = \"Altın\"\n",
    "age = 36\n",
    "\n",
    "greeting = \"My name is {} {} and \\nI'm {} years old.\".format(name, surName, age)\n",
    "\n",
    "print(greeting)"
   ]
  },
  {
   "cell_type": "code",
   "execution_count": 10,
   "metadata": {},
   "outputs": [
    {
     "name": "stdout",
     "output_type": "stream",
     "text": [
      "My name is Ahmet Altın and \n",
      "I'm 36 years old.\n"
     ]
    }
   ],
   "source": [
    "name = \"Ahmet\"\n",
    "surName = \"Altın\"\n",
    "age = 36\n",
    "\n",
    "greeting = \"My name is {1} {2} and \\nI'm {0} years old.\".format(age, name, surName)\n",
    "\n",
    "print(greeting)"
   ]
  },
  {
   "cell_type": "code",
   "execution_count": 11,
   "metadata": {},
   "outputs": [
    {
     "name": "stdout",
     "output_type": "stream",
     "text": [
      "My name is Ahmet Altın and \n",
      "I'm 36 years old.\n"
     ]
    }
   ],
   "source": [
    "name = \"Ahmet\"\n",
    "surName = \"Altın\"\n",
    "age = 36\n",
    "\n",
    "greeting = \"My name is {n} {s} and \\nI'm {a} years old.\".format(s=surName, n=name, a=age)\n",
    "\n",
    "print(greeting)"
   ]
  },
  {
   "cell_type": "code",
   "execution_count": 12,
   "metadata": {},
   "outputs": [
    {
     "name": "stdout",
     "output_type": "stream",
     "text": [
      "My name is Ahmet Altın and \n",
      "I'm 36 years old.\n"
     ]
    }
   ],
   "source": [
    "name = \"Ahmet\"\n",
    "surName = \"Altın\"\n",
    "age = 36\n",
    "\n",
    "greeting = f\"My name is {name} {surName} and \\nI'm {age} years old.\"\n",
    "\n",
    "print(greeting)"
   ]
  },
  {
   "cell_type": "code",
   "execution_count": 16,
   "metadata": {},
   "outputs": [
    {
     "name": "stdout",
     "output_type": "stream",
     "text": [
      "c,b and a\n",
      " abra cad abra\n"
     ]
    }
   ],
   "source": [
    "str1 =\"{2},{1} and {0}\" .format(\"a\", \"b\", \"c\" )\n",
    "str2 = \"{0} {1} {0}\". format(\"abra\",\"cad\")\n",
    "print(str1, str2, sep= \"\\n \")"
   ]
  },
  {
   "cell_type": "code",
   "execution_count": 13,
   "metadata": {},
   "outputs": [
    {
     "data": {
      "text/plain": [
       "\"My name is Ahmet Altın and \\nI'm 36 years old.\""
      ]
     },
     "execution_count": 13,
     "metadata": {},
     "output_type": "execute_result"
    }
   ],
   "source": [
    "greeting"
   ]
  },
  {
   "cell_type": "code",
   "execution_count": 14,
   "metadata": {},
   "outputs": [
    {
     "data": {
      "text/plain": [
       "'m sAmtAtnad'"
      ]
     },
     "execution_count": 14,
     "metadata": {},
     "output_type": "execute_result"
    }
   ],
   "source": [
    "sonuc = greeting[5:26:2]\n",
    "sonuc"
   ]
  },
  {
   "cell_type": "code",
   "execution_count": 15,
   "metadata": {},
   "outputs": [
    {
     "name": "stdout",
     "output_type": "stream",
     "text": [
      "M_y_ _n_a_m_e_ _i_s_ _A_h_m_e_t_ _A_l_t_ı_n_ _a_n_d_ _\n",
      "_I_'_m_ _3_6_ _y_e_a_r_s_ _o_l_d_.\n"
     ]
    }
   ],
   "source": [
    "print(*greeting, sep=\"_\") "
   ]
  },
  {
   "cell_type": "markdown",
   "metadata": {},
   "source": [
    "### STRING METHODS"
   ]
  },
  {
   "cell_type": "code",
   "execution_count": 16,
   "metadata": {},
   "outputs": [
    {
     "name": "stdout",
     "output_type": "stream",
     "text": [
      "MY NAME IS AHMET ALTIN AND \n",
      "I'M 36 YEARS OLD.\n"
     ]
    }
   ],
   "source": [
    "print(greeting.upper())"
   ]
  },
  {
   "cell_type": "code",
   "execution_count": 17,
   "metadata": {},
   "outputs": [
    {
     "name": "stdout",
     "output_type": "stream",
     "text": [
      "my name is ahmet altın and \n",
      "i'm 36 years old.\n"
     ]
    }
   ],
   "source": [
    "print(greeting.lower())"
   ]
  },
  {
   "cell_type": "code",
   "execution_count": 18,
   "metadata": {},
   "outputs": [
    {
     "name": "stdout",
     "output_type": "stream",
     "text": [
      "BU YAZIYI FARKETMENIZLE\n",
      "fark etmemenizin\n",
      "Hic bir sey fark etmedigini\n",
      "Fark Edeceksiniz\n"
     ]
    }
   ],
   "source": [
    "print(\"bu yaziyi farketmenizle\".upper(),\n",
    "      \"FARK ETMEMENIZIN\".lower(),\n",
    "      \"hic bir sey fark etmedigini\".capitalize(),\n",
    "      \"faRK eDECEKSINIZ\".title(),\n",
    "      sep=\"\\n\")"
   ]
  },
  {
   "cell_type": "code",
   "execution_count": 19,
   "metadata": {},
   "outputs": [
    {
     "name": "stdout",
     "output_type": "stream",
     "text": [
      "['Çaköslavakyal', 'laşt', 'ramad', 'klar', 'm', 'zdan m', 's', 'n', 'z?']\n"
     ]
    }
   ],
   "source": [
    "print(\"Çekoslavakyalılaştıramadıklarımızdan mısınız?\"\n",
    "      .replace(\"e\", \"a\")\n",
    "      .replace(\"o\", \"ö\")\n",
    "      .replace(\"ı\", \"_\")\n",
    "      .split(\"_\"))"
   ]
  },
  {
   "cell_type": "code",
   "execution_count": 21,
   "metadata": {},
   "outputs": [
    {
     "name": "stdout",
     "output_type": "stream",
     "text": [
      "T e c h p r o   i s   T h e   B e s t C o u r s e i n   T h e   W o r l d\n",
      "T e c h p r o   I s   T h e   B e s t c o u r s e i n   T h e   W o r l d\n"
     ]
    }
   ],
   "source": [
    "str1=\"tECHPRO IS tHE bESTcOURSEIN tHE wORLD\"\n",
    "print(*str1.swapcase())\n",
    "print(*str1.title())"
   ]
  },
  {
   "cell_type": "code",
   "execution_count": 22,
   "metadata": {},
   "outputs": [
    {
     "name": "stdout",
     "output_type": "stream",
     "text": [
      "['t', 'CHPRO IS tH', ' b', 'STcOURSEIN tHE wORLD']\n"
     ]
    }
   ],
   "source": [
    "print(str1.split(\"E\", maxsplit=3))\n"
   ]
  },
  {
   "cell_type": "code",
   "execution_count": 23,
   "metadata": {},
   "outputs": [
    {
     "name": "stdout",
     "output_type": "stream",
     "text": [
      "['tECHPRO IS tHE bESTcOURSEIN tHE wORLD']\n"
     ]
    }
   ],
   "source": [
    "print(str1.split(\"h\"), sep =\"@\\n\")"
   ]
  },
  {
   "cell_type": "code",
   "execution_count": 24,
   "metadata": {},
   "outputs": [
    {
     "name": "stdout",
     "output_type": "stream",
     "text": [
      "tECHPRO IS tHE bESTcOURSEIN tHE wORLD\n"
     ]
    }
   ],
   "source": [
    "print(*str1.split(\"h\"), sep=\"☺\\n\")"
   ]
  },
  {
   "cell_type": "code",
   "execution_count": 25,
   "metadata": {},
   "outputs": [
    {
     "data": {
      "text/plain": [
       "37"
      ]
     },
     "execution_count": 25,
     "metadata": {},
     "output_type": "execute_result"
    }
   ],
   "source": [
    "len(str1)"
   ]
  },
  {
   "cell_type": "code",
   "execution_count": 27,
   "metadata": {},
   "outputs": [
    {
     "name": "stdout",
     "output_type": "stream",
     "text": [
      "tECHPRO IS tHE bESTcOURSEIN tHE wORLD*************\n"
     ]
    }
   ],
   "source": [
    "print(str1.ljust(50,\"*\"))"
   ]
  }
 ],
 "metadata": {
  "kernelspec": {
   "display_name": "Python 3",
   "language": "python",
   "name": "python3"
  },
  "language_info": {
   "codemirror_mode": {
    "name": "ipython",
    "version": 3
   },
   "file_extension": ".py",
   "mimetype": "text/x-python",
   "name": "python",
   "nbconvert_exporter": "python",
   "pygments_lexer": "ipython3",
   "version": "3.11.8"
  }
 },
 "nbformat": 4,
 "nbformat_minor": 2
}
