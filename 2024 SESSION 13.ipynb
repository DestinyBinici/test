{
 "cells": [
  {
   "cell_type": "code",
   "execution_count": 1,
   "metadata": {},
   "outputs": [
    {
     "data": {
      "text/plain": [
       "8"
      ]
     },
     "execution_count": 1,
     "metadata": {},
     "output_type": "execute_result"
    }
   ],
   "source": [
    "3 + 5"
   ]
  },
  {
   "cell_type": "markdown",
   "metadata": {},
   "source": [
    "## LOOPS\n",
    "### WHILE"
   ]
  },
  {
   "cell_type": "code",
   "execution_count": null,
   "metadata": {},
   "outputs": [],
   "source": [
    "while 10> 4:    # calistirma sonsuz dongu\n",
    "    print(\"bu dongu sonsuza kadar calsir\")"
   ]
  },
  {
   "cell_type": "code",
   "execution_count": 2,
   "metadata": {},
   "outputs": [
    {
     "name": "stdout",
     "output_type": "stream",
     "text": [
      "bu dongu kosul saglandikca cikti verir\n",
      "bu dongu kosul saglandikca cikti verir\n",
      "bu dongu kosul saglandikca cikti verir\n",
      "bu dongu kosul saglandikca cikti verir\n",
      "bu dongu kosul saglandikca cikti verir\n",
      "bu dongu kosul saglandikca cikti verir\n"
     ]
    }
   ],
   "source": [
    "x = 4\n",
    "while 10> x:\n",
    "    print(\"bu dongu kosul saglandikca cikti verir\")\n",
    "    x = x + 1"
   ]
  },
  {
   "cell_type": "code",
   "execution_count": null,
   "metadata": {},
   "outputs": [],
   "source": [
    "x = 1       # Bu hali ilke sonsuz dongu calistirma\n",
    "while x < 10:\n",
    "    print(x)"
   ]
  },
  {
   "cell_type": "code",
   "execution_count": 4,
   "metadata": {},
   "outputs": [
    {
     "name": "stdout",
     "output_type": "stream",
     "text": [
      "1\n",
      "2\n",
      "3\n",
      "4\n",
      "5\n",
      "6\n",
      "7\n",
      "8\n",
      "9\n"
     ]
    }
   ],
   "source": [
    "x = 1\n",
    "while x < 10:\n",
    "    print(x)\n",
    "    x = x + 1"
   ]
  },
  {
   "cell_type": "code",
   "execution_count": null,
   "metadata": {},
   "outputs": [],
   "source": [
    "x = 1  # islem dongunun icinde olmasi icin 4 indent olmak zorunda\n",
    "while x < 10:    \n",
    "    print(x)\n",
    "x = x + 1"
   ]
  },
  {
   "cell_type": "code",
   "execution_count": 6,
   "metadata": {},
   "outputs": [
    {
     "name": "stdout",
     "output_type": "stream",
     "text": [
      "2\n",
      "3\n",
      "4\n",
      "5\n",
      "6\n",
      "7\n",
      "8\n",
      "9\n",
      "10\n"
     ]
    }
   ],
   "source": [
    "x = 1\n",
    "while x < 10:   # boyle yazarsak print altta olarak 2den baslar\n",
    "    \n",
    "    x = x + 1\n",
    "    print(x)"
   ]
  },
  {
   "cell_type": "code",
   "execution_count": 7,
   "metadata": {},
   "outputs": [],
   "source": [
    "while False:\n",
    "    print(\"sanki cikti vermeyecek\")"
   ]
  },
  {
   "cell_type": "code",
   "execution_count": 8,
   "metadata": {},
   "outputs": [],
   "source": [
    "while \"\":\n",
    "    print(\"buda cikti vermez bos\")"
   ]
  },
  {
   "cell_type": "code",
   "execution_count": null,
   "metadata": {},
   "outputs": [],
   "source": [
    "while True:  #CALISTIRMA SONSUZ DONGU\n",
    "    print(\"bu kod her turlu cikti verir\")"
   ]
  },
  {
   "cell_type": "code",
   "execution_count": null,
   "metadata": {},
   "outputs": [],
   "source": [
    "x = 1  # CALISTIRMA SONSUZ DONGU\n",
    "while True             # while true oldugu icin sonsuza gider\n",
    "    print(x, \"sonsuza gidermi acaba?\")\n",
    "    x = x + 1  # x + = 1 (kisa yol))  \n",
    "    "
   ]
  },
  {
   "cell_type": "code",
   "execution_count": 9,
   "metadata": {},
   "outputs": [],
   "source": [
    "x = 5"
   ]
  },
  {
   "cell_type": "code",
   "execution_count": 11,
   "metadata": {},
   "outputs": [],
   "source": [
    "x *= 2   # x= x * 2   demektir "
   ]
  },
  {
   "cell_type": "code",
   "execution_count": 12,
   "metadata": {},
   "outputs": [
    {
     "data": {
      "text/plain": [
       "10"
      ]
     },
     "execution_count": 12,
     "metadata": {},
     "output_type": "execute_result"
    }
   ],
   "source": [
    "x"
   ]
  },
  {
   "cell_type": "code",
   "execution_count": 13,
   "metadata": {},
   "outputs": [],
   "source": [
    "x **= 2"
   ]
  },
  {
   "cell_type": "code",
   "execution_count": 14,
   "metadata": {},
   "outputs": [
    {
     "data": {
      "text/plain": [
       "100"
      ]
     },
     "execution_count": 14,
     "metadata": {},
     "output_type": "execute_result"
    }
   ],
   "source": [
    "x"
   ]
  },
  {
   "cell_type": "code",
   "execution_count": 15,
   "metadata": {},
   "outputs": [
    {
     "name": "stdout",
     "output_type": "stream",
     "text": [
      "while dongusu condition False olana kadar calisir\n"
     ]
    }
   ],
   "source": [
    "y = True\n",
    "while y:\n",
    "    print(\"while dongusu condition False olana kadar calisir\")\n",
    "    y = False  # y nin degerini False tanimladik"
   ]
  },
  {
   "cell_type": "code",
   "execution_count": null,
   "metadata": {},
   "outputs": [],
   "source": [
    "y = True\n",
    "while y:\n",
    "    print(\"while dongusu condition False olana kadar calisir\")\n",
    "y = False  # bu y dongude degil sonsuza dek calisir.4 indent olmli"
   ]
  },
  {
   "cell_type": "code",
   "execution_count": 16,
   "metadata": {},
   "outputs": [
    {
     "name": "stdout",
     "output_type": "stream",
     "text": [
      "deneme, 1\n",
      "3 deneme hakkin bitti\n",
      "deneme, 2\n",
      "3 deneme hakkin bitti\n",
      "deneme, 3\n",
      "3 deneme hakkin bitti\n"
     ]
    }
   ],
   "source": [
    "x = 1     # f string yontemi\n",
    "while x <= 3:\n",
    "    print(f\"deneme, {x}\")\n",
    "    x += 1x\n",
    "    print(\"3 deneme hakkin bitti\")  # print dongu icinde olursa surekli yazdirir."
   ]
  },
  {
   "cell_type": "code",
   "execution_count": 1,
   "metadata": {},
   "outputs": [
    {
     "name": "stdout",
     "output_type": "stream",
     "text": [
      "deneme, 1\n",
      "deneme, 2\n",
      "deneme, 3\n",
      "3 deneme hakkin bitti\n"
     ]
    }
   ],
   "source": [
    "x= 1     # f string yontemi\n",
    "while x <=3:\n",
    "    print(f\"deneme, {x}\")\n",
    "    x += 1\n",
    "print(\"3 deneme hakkin bitti\")  # print dongu disinda oldugu icin dogre calisir"
   ]
  },
  {
   "cell_type": "markdown",
   "metadata": {},
   "source": [
    "Soru: 1 ve 5 dahil sayilarin karesini cikti olarak veren while dongusu yazdirin"
   ]
  },
  {
   "cell_type": "code",
   "execution_count": 2,
   "metadata": {},
   "outputs": [
    {
     "name": "stdout",
     "output_type": "stream",
     "text": [
      "1 in karesi:1\n",
      "2 in karesi:4\n",
      "3 in karesi:9\n",
      "4 in karesi:16\n",
      "5 in karesi:25\n"
     ]
    }
   ],
   "source": [
    "x = 1\n",
    "while x <= 5:\n",
    "    print(f\"{x} in karesi:{x ** 2}\")\n",
    "    x +=1"
   ]
  },
  {
   "cell_type": "code",
   "execution_count": 19,
   "metadata": {},
   "outputs": [
    {
     "name": "stdout",
     "output_type": "stream",
     "text": [
      "1 in karesi :1\n",
      "2 in karesi :4\n",
      "3 in karesi :9\n",
      "4 in karesi :16\n",
      "5 in karesi :25\n"
     ]
    }
   ],
   "source": [
    "x = 1\n",
    "while x <= 5:\n",
    "    print(f\"{x} in karesi :{x ** 2}\")\n",
    "    x += 1"
   ]
  },
  {
   "cell_type": "code",
   "execution_count": 20,
   "metadata": {},
   "outputs": [
    {
     "name": "stdout",
     "output_type": "stream",
     "text": [
      "80yanlis tahmin. tekrar dene\n",
      "50yanlis tahmin. tekrar dene\n",
      "70yanlis tahmin. tekrar dene\n",
      "60yanlis tahmin. tekrar dene\n"
     ]
    }
   ],
   "source": [
    "x = int(input(\" kilomu tahmin et. 10 luk degerler kullan\"))\n",
    "while x < 90:\n",
    "    print(f\"{x }yanlis tahmin. tekrar dene\")\n",
    "    x = int (input(\"kilomu tshmin et.10 luk degerler kullan\"))\n"
   ]
  },
  {
   "cell_type": "code",
   "execution_count": 21,
   "metadata": {},
   "outputs": [
    {
     "name": "stdout",
     "output_type": "stream",
     "text": [
      "Girdiğiniz sayı : 44. Tahminini arttır\n",
      "Girdiğiniz sayı : 60. Tahminini azalt\n",
      "Girdiğiniz sayı : 50. Tahminini arttır\n",
      "Girdiğiniz sayı : 52. Tahminini arttır\n",
      "Girdiğiniz sayı : 55. Doğru bildiniz. Tebrikler. \n"
     ]
    }
   ],
   "source": [
    "y = True\n",
    "aklımdaki_sayı = 55\n",
    "while y:\n",
    "    tahmin = int(input(\"1 ile 100 arasında bir sayı tahmin edin.\"))\n",
    "    if aklımdaki_sayı < tahmin:\n",
    "        print(f\"Girdiğiniz sayı : {tahmin}. Tahminini azalt\")\n",
    "    elif aklımdaki_sayı > tahmin:\n",
    "        print(f\"Girdiğiniz sayı : {tahmin}. Tahminini arttır\")\n",
    "    else:\n",
    "        print(f\"Girdiğiniz sayı : {tahmin}. Doğru bildiniz. Tebrikler. \")\n",
    "        y = False  "
   ]
  },
  {
   "cell_type": "code",
   "execution_count": 23,
   "metadata": {},
   "outputs": [
    {
     "name": "stdout",
     "output_type": "stream",
     "text": [
      "Girdiğiniz sayı : 50. Tahminini arttır\n",
      "Girdiğiniz sayı : 60. Tahminini azalt\n",
      "Girdiğiniz sayı : 60. Tahminini azalt\n",
      "Girdiğiniz sayı : 55.4 kerede bildiniz . Tebrikler. \n"
     ]
    }
   ],
   "source": [
    "y = True\n",
    "aklımdaki_sayı = 55\n",
    "sayac = 0\n",
    "while y:\n",
    "    tahmin = int(input(\"1 ile 100 arasında bir sayı tahmin edin.\"))\n",
    "    sayac += 1\n",
    "    if aklımdaki_sayı < tahmin:\n",
    "        print(f\"Girdiğiniz sayı : {tahmin}. Tahminini azalt\")\n",
    "    elif aklımdaki_sayı > tahmin:\n",
    "        print(f\"Girdiğiniz sayı : {tahmin}. Tahminini arttır\")\n",
    "    else:\n",
    "        print(f\"Girdiğiniz sayı : {tahmin}.{sayac} kerede bildiniz . Tebrikler. \")\n",
    "        y = False\n"
   ]
  },
  {
   "cell_type": "code",
   "execution_count": 24,
   "metadata": {},
   "outputs": [
    {
     "name": "stdout",
     "output_type": "stream",
     "text": [
      "Girdiğiniz sayı : 44. Tahminini arttır\n",
      "Girdiğiniz sayı : 33. Tahminini arttır\n",
      "Girdiğiniz sayı : 60. Tahminini azalt\n",
      "Girdiğiniz sayı : 55.4 kerede bildiniz . Tebrikler. \n"
     ]
    }
   ],
   "source": [
    "y = True\n",
    "aklımdaki_sayı = 55\n",
    "sayac = 0\n",
    "while y:\n",
    "    tahmin = int(input(\"1 ile 100 arasında bir sayı tahmin edin.\"))\n",
    "    sayac += 1\n",
    "    if aklımdaki_sayı < tahmin:\n",
    "        print(f\"Girdiğiniz sayı : {tahmin}. Tahminini azalt\")\n",
    "    elif aklımdaki_sayı > tahmin:\n",
    "        print(f\"Girdiğiniz sayı : {tahmin}. Tahminini arttır\")\n",
    "    else:\n",
    "        print(f\"Girdiğiniz sayı : {tahmin}.{sayac} kerede bildiniz . Tebrikler. \")\n",
    "        y = False\n",
    "    if sayac == 5:  # 5 kere girebilir kisitadik burda\n",
    "        y =False"
   ]
  },
  {
   "cell_type": "code",
   "execution_count": 26,
   "metadata": {},
   "outputs": [],
   "source": [
    "sayilar_listesi =[1, 3, 4, 5, 6, 7]"
   ]
  },
  {
   "cell_type": "code",
   "execution_count": 27,
   "metadata": {},
   "outputs": [
    {
     "name": "stdout",
     "output_type": "stream",
     "text": [
      "1\n",
      "9\n",
      "16\n",
      "25\n",
      "36\n",
      "49\n"
     ]
    }
   ],
   "source": [
    "x = 0 # listenin elemanlarini karesini donduren while dongudunu yazin\n",
    "while x < len (sayilar_listesi):\n",
    "    print((sayilar_listesi [x]) ** 2)\n",
    "    x += 1"
   ]
  },
  {
   "cell_type": "markdown",
   "metadata": {},
   "source": [
    "x = 0  #bu yapi aklimizda kalicak\n",
    "while x < len (sayilar_listesi): \n",
    "birede x += 1"
   ]
  },
  {
   "cell_type": "code",
   "execution_count": 30,
   "metadata": {},
   "outputs": [
    {
     "name": "stdout",
     "output_type": "stream",
     "text": [
      "[1]\n",
      "[1, 9]\n",
      "[1, 9, 16]\n",
      "[1, 9, 16, 25]\n",
      "[1, 9, 16, 25, 36]\n",
      "[1, 9, 16, 25, 36, 49]\n"
     ]
    }
   ],
   "source": [
    "## soru listenin elemanlarini karesini bir liste icinde donduren while dongusunu yazin\n",
    "sayilar_listesi =[1, 3, 4, 5, 6, 7]\n",
    "x = 0\n",
    "kareler_listesi = []\n",
    "while x < len ( sayilar_listesi):\n",
    "    kareler_listesi. append(sayilar_listesi[x] ** 2)\n",
    "    x += 1\n",
    "    print(kareler_listesi)     # print dongu icinde olursa alt alta yazar\n",
    "    \n",
    "    "
   ]
  },
  {
   "cell_type": "code",
   "execution_count": 65,
   "metadata": {},
   "outputs": [
    {
     "name": "stdout",
     "output_type": "stream",
     "text": [
      "[1, 9, 16, 25, 36, 49]\n"
     ]
    }
   ],
   "source": [
    "## soru listenin elemanlarini karesini bir liste icinde donduren while dongusunu yazin\n",
    "sayilar_listesi =[1, 3, 4, 5, 6, 7]\n",
    "x = 0\n",
    "kareler_listesi = []\n",
    "while x < len ( sayilar_listesi):\n",
    "    kareler_listesi. append(sayilar_listesi[x] ** 2)\n",
    "    x += 1\n",
    "print(kareler_listesi)   # print dongu disinda calisir"
   ]
  },
  {
   "cell_type": "code",
   "execution_count": 35,
   "metadata": {},
   "outputs": [
    {
     "name": "stdout",
     "output_type": "stream",
     "text": [
      "[16, 36]\n"
     ]
    }
   ],
   "source": [
    "# listenin elemanlarindan cift olanlarin karesini  bir liste icinde donduren while dongusunu yazdirin\n",
    "\n",
    "sayılar_listesi = [1, 3, 4, 6, 5, 7]\n",
    "\n",
    "x = 0\n",
    "\n",
    "çiftlerin_kareler_listesi = []\n",
    "\n",
    "while x < len(sayılar_listesi):\n",
    "\n",
    "    if sayılar_listesi[x] % 2 == 0:\n",
    "\n",
    "        çiftlerin_kareler_listesi.append(sayılar_listesi[x] ** 2)\n",
    "\n",
    "    x += 1    # bu formul while dongusu izasinda olmali yoksa sonsuza gider\n",
    "\n",
    "print(çiftlerin_kareler_listesi)\n",
    "\n"
   ]
  },
  {
   "cell_type": "code",
   "execution_count": null,
   "metadata": {},
   "outputs": [],
   "source": [
    "odev; [1,5,6,7,12,14,15,18,19,32,25] listesinin  tek elemanlarinin karesinin, cift elemanlarinin 2 katini liste halinde \n",
    "donduren while dongusunu yazin"
   ]
  },
  {
   "cell_type": "code",
   "execution_count": 3,
   "metadata": {},
   "outputs": [
    {
     "name": "stdout",
     "output_type": "stream",
     "text": [
      "[1, 25, 12, 49, 24, 28, 225, 36, 361, 64, 625]\n"
     ]
    }
   ],
   "source": [
    "sayilar_listesi2 = [1,5,6,7,12,14,15,18,19,32,25]\n",
    "\n",
    "sayilar_listesi = [1,5,6,7,12,14,15,18,19,32,25]\n",
    "\n",
    "x = 0\n",
    "result = []\n",
    "while x < len(sayilar_listesi):\n",
    "    if sayilar_listesi[x] % 2 :\n",
    "        result.append(sayilar_listesi[x] ** 2)\n",
    "    else:\n",
    "        result.append(sayilar_listesi[x] * 2)\n",
    "    x += 1\n",
    "print(result)"
   ]
  }
 ],
 "metadata": {
  "kernelspec": {
   "display_name": "Python 3",
   "language": "python",
   "name": "python3"
  },
  "language_info": {
   "codemirror_mode": {
    "name": "ipython",
    "version": 3
   },
   "file_extension": ".py",
   "mimetype": "text/x-python",
   "name": "python",
   "nbconvert_exporter": "python",
   "pygments_lexer": "ipython3",
   "version": "3.11.8"
  }
 },
 "nbformat": 4,
 "nbformat_minor": 2
}
