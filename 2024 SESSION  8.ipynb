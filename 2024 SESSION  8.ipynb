{
 "cells": [
  {
   "cell_type": "code",
   "execution_count": 2,
   "metadata": {},
   "outputs": [
    {
     "data": {
      "text/plain": [
       "'hello'"
      ]
     },
     "execution_count": 2,
     "metadata": {},
     "output_type": "execute_result"
    }
   ],
   "source": [
    "\"hello\" "
   ]
  },
  {
   "cell_type": "markdown",
   "metadata": {},
   "source": [
    "# If, elif, else statement"
   ]
  },
  {
   "cell_type": "markdown",
   "metadata": {},
   "source": [
    "#### if"
   ]
  },
  {
   "cell_type": "markdown",
   "metadata": {},
   "source": []
  },
  {
   "cell_type": "code",
   "execution_count": 3,
   "metadata": {},
   "outputs": [
    {
     "name": "stdout",
     "output_type": "stream",
     "text": [
      "5, 2 den buyuktur\n"
     ]
    }
   ],
   "source": [
    "if 5> 2:\n",
    "    print(\"5, 2 den buyuktur\")"
   ]
  },
  {
   "cell_type": "code",
   "execution_count": 6,
   "metadata": {},
   "outputs": [
    {
     "name": "stdout",
     "output_type": "stream",
     "text": [
      "32\n"
     ]
    }
   ],
   "source": [
    "if True:\n",
    "    print(8 * 4)"
   ]
  },
  {
   "cell_type": "code",
   "execution_count": 10,
   "metadata": {},
   "outputs": [
    {
     "name": "stdout",
     "output_type": "stream",
     "text": [
      " bu kod kesinlikle calisir\n"
     ]
    }
   ],
   "source": [
    "if \"techpro\":\n",
    "    print(\" bu kod kesinlikle calisir\")\n",
    "\n",
    "\n",
    "\n"
   ]
  },
  {
   "cell_type": "code",
   "execution_count": 2,
   "metadata": {},
   "outputs": [],
   "source": [
    "if 5 < 2:  \n",
    "    print(\"bu kod kesinlikle calismaz\")  # kod yazdirmaz False oldugu icin"
   ]
  },
  {
   "cell_type": "code",
   "execution_count": 11,
   "metadata": {},
   "outputs": [],
   "source": [
    "if 3< 2:\n",
    "    print (\"bu kod boolean sonuc False oldugu icin cikti alamayiz\")"
   ]
  },
  {
   "cell_type": "code",
   "execution_count": null,
   "metadata": {},
   "outputs": [],
   "source": [
    "if False     # Bu kod calisir ama cikti vermez\n",
    "    print(\"Bu kod calisacak ama cikti vermez\")"
   ]
  },
  {
   "cell_type": "code",
   "execution_count": 13,
   "metadata": {},
   "outputs": [
    {
     "name": "stdout",
     "output_type": "stream",
     "text": [
      "acaba cikti verir mi?\n"
     ]
    }
   ],
   "source": [
    "if 8==8:\n",
    "    print(\"acaba cikti verir mi?\")"
   ]
  },
  {
   "cell_type": "code",
   "execution_count": 14,
   "metadata": {},
   "outputs": [
    {
     "ename": "IndentationError",
     "evalue": "expected an indented block after 'if' statement on line 1 (3852405846.py, line 2)",
     "output_type": "error",
     "traceback": [
      "\u001b[1;36m  Cell \u001b[1;32mIn[14], line 2\u001b[1;36m\u001b[0m\n\u001b[1;33m    print(\"acaba cikti verir mi?\")\u001b[0m\n\u001b[1;37m    ^\u001b[0m\n\u001b[1;31mIndentationError\u001b[0m\u001b[1;31m:\u001b[0m expected an indented block after 'if' statement on line 1\n"
     ]
    }
   ],
   "source": [
    "if 8==8:         # print yazmadan once 4 bosluk koyulmali\n",
    "print(\"acaba cikti verir mi?\") "
   ]
  },
  {
   "cell_type": "code",
   "execution_count": 3,
   "metadata": {},
   "outputs": [
    {
     "name": "stdout",
     "output_type": "stream",
     "text": [
      "acaba cikti verir mi?\n"
     ]
    }
   ],
   "source": [
    "if 8==8:                                    # print yazmadan once 4 bosluk koyulmali\n",
    "    print(\"acaba cikti verir mi?\") "
   ]
  },
  {
   "cell_type": "code",
   "execution_count": 18,
   "metadata": {},
   "outputs": [
    {
     "name": "stdout",
     "output_type": "stream",
     "text": [
      " if calissada calismasa da ben cikti veririm\n"
     ]
    }
   ],
   "source": [
    "if 5 < 4:\n",
    "    print(\"5, 4 ten kucuktur\")   # if false oldugu icin burayi vermez alt kismi verir \n",
    "print(\" if calissada calismasa da ben cikti veririm\")"
   ]
  },
  {
   "cell_type": "code",
   "execution_count": 4,
   "metadata": {},
   "outputs": [],
   "source": [
    "if \"\" :                            # kod calisir ancak cikti vermez. Bos string Falsy ifadedir\n",
    "    print(\" ne dersiniz?\")\n"
   ]
  },
  {
   "cell_type": "code",
   "execution_count": 5,
   "metadata": {},
   "outputs": [
    {
     "name": "stdout",
     "output_type": "stream",
     "text": [
      "10, 3 ten buyuktur\n",
      "7\n",
      "30\n",
      "28\n"
     ]
    }
   ],
   "source": [
    "if 10 > 3:\n",
    "    print(\"10, 3 ten buyuktur\")\n",
    "    print(10 - 3)\n",
    "    print(10 * 3)\n",
    "    age = 10 * 3 - 2\n",
    "    print(age)"
   ]
  },
  {
   "cell_type": "code",
   "execution_count": 6,
   "metadata": {},
   "outputs": [
    {
     "data": {
      "text/plain": [
       "28"
      ]
     },
     "execution_count": 6,
     "metadata": {},
     "output_type": "execute_result"
    }
   ],
   "source": [
    "age"
   ]
  },
  {
   "cell_type": "code",
   "execution_count": 7,
   "metadata": {},
   "outputs": [],
   "source": [
    "if 10 < 3:       # kosul False oldugu icin okumaz alt tarafi\n",
    "    print(\"10, 3 ten buyuktur\")\n",
    "    print(10 - 3)\n",
    "    print(10 * 3)\n",
    "    age = 10 * 3 - 2\n",
    "    print(age)"
   ]
  },
  {
   "cell_type": "markdown",
   "metadata": {},
   "source": [
    "#### if, else"
   ]
  },
  {
   "cell_type": "code",
   "execution_count": 33,
   "metadata": {},
   "outputs": [
    {
     "name": "stdout",
     "output_type": "stream",
     "text": [
      "if kismi calisir\n"
     ]
    }
   ],
   "source": [
    "if 5 > 4:\n",
    "    print(\"if kismi calisir\")\n",
    "else:\n",
    "    print(\"else kismi calisir\")"
   ]
  },
  {
   "cell_type": "code",
   "execution_count": 34,
   "metadata": {},
   "outputs": [
    {
     "name": "stdout",
     "output_type": "stream",
     "text": [
      "else kismi calisir\n"
     ]
    }
   ],
   "source": [
    "if 5 < 4:\n",
    "    print(\"if kismi calisir\")\n",
    "else:\n",
    "    print(\"else kismi calisir\")"
   ]
  },
  {
   "cell_type": "code",
   "execution_count": 35,
   "metadata": {},
   "outputs": [
    {
     "name": "stdout",
     "output_type": "stream",
     "text": [
      "else kismi calisir\n"
     ]
    }
   ],
   "source": [
    "x = 8\n",
    "if x < 5:   # false oldugu icin burasi calismaz alt tarafa gecer\n",
    "    print(\"if kismi calisir\")\n",
    "else:\n",
    "    print(\"else kismi calisir\")"
   ]
  },
  {
   "cell_type": "markdown",
   "metadata": {},
   "source": [
    "#### if, elif"
   ]
  },
  {
   "cell_type": "code",
   "execution_count": 8,
   "metadata": {},
   "outputs": [
    {
     "name": "stdout",
     "output_type": "stream",
     "text": [
      "2 inci elif calisir\n"
     ]
    }
   ],
   "source": [
    "x = 8\n",
    "if x < 8:\n",
    "    print(\"if calisir\")\n",
    "elif x == 9:\n",
    "    print(\"1 inci elif calisir\")\n",
    "elif x < 10:                       # true burda\n",
    "    print(\"2 inci elif calisir\")\n",
    "elif x > 10:\n",
    "    print(\"3 uncu elif calisir\")\n"
   ]
  },
  {
   "cell_type": "code",
   "execution_count": 9,
   "metadata": {},
   "outputs": [
    {
     "name": "stdout",
     "output_type": "stream",
     "text": [
      "3 uncu elif calisir\n"
     ]
    }
   ],
   "source": [
    "x = 8\n",
    "if x < 8:\n",
    "    print(\"if calisir\")\n",
    "elif x == 9:\n",
    "    print(\"1 inci elif calisir\")\n",
    "elif x > 10:\n",
    "    print(\"2 inci elif calisir\")\n",
    "elif x < 10:                        # True burda\n",
    "    print(\"3 uncu elif calisir\")"
   ]
  },
  {
   "cell_type": "code",
   "execution_count": 10,
   "metadata": {},
   "outputs": [],
   "source": [
    "x = 8                                    # if ve  elif False oldugu icin kod yazdirmaz\n",
    "if x < 8:\n",
    "    print(\"if calisir\")\n",
    "elif x == 9:\n",
    "    print(\"1 inci elif calisir\")"
   ]
  },
  {
   "cell_type": "markdown",
   "metadata": {},
   "source": [
    " ### if; ile bir kosul\n",
    " ### elif; ile tek tek tanimlayarak coklu kosul yazabiliriz.\n",
    " ### else; kosullardan hicbiri calismazsa"
   ]
  },
  {
   "cell_type": "markdown",
   "metadata": {},
   "source": [
    "## if, elif, else"
   ]
  },
  {
   "cell_type": "code",
   "execution_count": 41,
   "metadata": {},
   "outputs": [
    {
     "name": "stdout",
     "output_type": "stream",
     "text": [
      "sayi 50 e esit veya kucuktur\n"
     ]
    }
   ],
   "source": [
    "x = int(input(\"Lutfen 0 ile 50 arasinda bir sayi girin\"))\n",
    "if  x < 10:\n",
    "    print(\"sayi 10 dan kucuktur\")\n",
    "elif x < 35:\n",
    "    print(\"sayi 35 ten kucuktur\")\n",
    "elif x <= 50 :\n",
    "    print(\"sayi 50 e esit veya kucuktur\")\n",
    "else:\n",
    "    print (\"sayi 0 ile 50 arasinda degil\")\n"
   ]
  },
  {
   "cell_type": "code",
   "execution_count": 42,
   "metadata": {},
   "outputs": [
    {
     "name": "stdout",
     "output_type": "stream",
     "text": [
      "sayi 50 e esit veya kucuktur\n"
     ]
    }
   ],
   "source": [
    "x = float(input(\"Lutfen 0 ile 50 arasinda bir sayi girin\"))\n",
    "if  x < 10:\n",
    "    print(\"sayi 10 dan kucuktur\")\n",
    "elif x < 35:\n",
    "    print(\"sayi 35 ten kucuktur\")\n",
    "elif x <= 50 :\n",
    "    print(\"sayi 50 e esit veya kucuktur\")\n",
    "else:\n",
    "    print (\"sayi 0 ile 50 arasinda degil\")\n"
   ]
  },
  {
   "cell_type": "code",
   "execution_count": 44,
   "metadata": {},
   "outputs": [
    {
     "name": "stdout",
     "output_type": "stream",
     "text": [
      "else\n"
     ]
    }
   ],
   "source": [
    "x = 4\n",
    "if x < 2:\n",
    "    print(\"if\")\n",
    "elif x > 5:\n",
    "    print(\"elif\")\n",
    "else:\n",
    "    print(\"else\")"
   ]
  },
  {
   "cell_type": "code",
   "execution_count": 46,
   "metadata": {},
   "outputs": [
    {
     "name": "stdout",
     "output_type": "stream",
     "text": [
      "16\n"
     ]
    }
   ],
   "source": [
    "x = 4\n",
    "if x < 2:\n",
    "    print(\"if\")\n",
    "elif x > 5:\n",
    "    print(\"elif\")\n",
    "else:\n",
    "    print(4 ** 2)       # else calisir ve blokta islemi yapar"
   ]
  },
  {
   "cell_type": "markdown",
   "metadata": {},
   "source": [
    "\n",
    "kahoot.  15 soru. 5 ve alti dogru ise \"dahi misin\",\n",
    "10 ve alti ise \"sakamisin sen\"\n",
    "15 ve alti \"supersin\"\n",
    "dogru deger girilmezse else ile yanlis bir deger girdigini belirtelim\n"
   ]
  },
  {
   "cell_type": "code",
   "execution_count": 17,
   "metadata": {},
   "outputs": [
    {
     "name": "stdout",
     "output_type": "stream",
     "text": [
      "supersin\n"
     ]
    }
   ],
   "source": [
    "ds = int(input(\"son kahootta kac dogru yaptin\"))\n",
    "if ds  <= 5:\n",
    "    print(\"dahimisin sen\")\n",
    "elif ds <= 10:\n",
    "    print(\"sakamisin sen\")\n",
    "elif ds <= 15:\n",
    "    print(\"supersin\")\n"
   ]
  },
  {
   "cell_type": "code",
   "execution_count": 13,
   "metadata": {},
   "outputs": [
    {
     "name": "stdout",
     "output_type": "stream",
     "text": [
      "saka misin sen\n"
     ]
    }
   ],
   "source": [
    "x = int(input(\"1 ile 15 arasinda dogru sayi giriniz\"))\n",
    "if x <= 5:\n",
    "    print(\"Dahimisin sen\")\n",
    "elif x <= 15:\n",
    "    print(\"saka misin sen\")\n",
    "elif x <= 10 :\n",
    "    print(\"supersin\")\n",
    "else:\n",
    "    print(\"Girdiginiz deger 0 ile 15 arasinda degil\")\n"
   ]
  },
  {
   "cell_type": "markdown",
   "metadata": {},
   "source": [
    "## Lists"
   ]
  },
  {
   "cell_type": "code",
   "execution_count": null,
   "metadata": {},
   "outputs": [],
   "source": [
    "#her turlu veriyi saklayan bir yapidir.\n",
    "# mutable'dir (atamaya ihtiyac yoktur iterable'dir.\n",
    "# iki farkli yontemle listeleri kullananbiliriz;\n",
    "# [] ve list()"
   ]
  },
  {
   "cell_type": "markdown",
   "metadata": {},
   "source": [
    "### listeler elemanlarini virgul ile ayirir."
   ]
  },
  {
   "cell_type": "code",
   "execution_count": 19,
   "metadata": {},
   "outputs": [
    {
     "data": {
      "text/plain": [
       "[1, 2, 3.14, 'Muatafa', False]"
      ]
     },
     "execution_count": 19,
     "metadata": {},
     "output_type": "execute_result"
    }
   ],
   "source": [
    "list_1 = [1, 2, 3.14, \"Muatafa\", False]\n",
    "list_1"
   ]
  },
  {
   "cell_type": "markdown",
   "metadata": {},
   "source": [
    "### LEN FONKSIYONU; Eleman sayisini gormek icin len fonksiyonu kullanilir.\n",
    "### ITTERABLE olan datalarin elaman sayisini bize verir"
   ]
  },
  {
   "cell_type": "code",
   "execution_count": 20,
   "metadata": {},
   "outputs": [
    {
     "data": {
      "text/plain": [
       "7"
      ]
     },
     "execution_count": 20,
     "metadata": {},
     "output_type": "execute_result"
    }
   ],
   "source": [
    "len(\"techpro\")   # Butun harfleri saydi."
   ]
  },
  {
   "cell_type": "code",
   "execution_count": 21,
   "metadata": {},
   "outputs": [
    {
     "data": {
      "text/plain": [
       "5"
      ]
     },
     "execution_count": 21,
     "metadata": {},
     "output_type": "execute_result"
    }
   ],
   "source": [
    "len(list_1)"
   ]
  },
  {
   "cell_type": "code",
   "execution_count": 27,
   "metadata": {},
   "outputs": [
    {
     "data": {
      "text/plain": [
       "['T', 'e', 'c', 'h', 'p', 'r', 'o']"
      ]
     },
     "execution_count": 27,
     "metadata": {},
     "output_type": "execute_result"
    }
   ],
   "source": [
    "list_2 = list(\"Techpro\")     # 7 elemanli bir listeye cevirdi list() fonksiyonu kullaninca\n",
    "list_2"
   ]
  },
  {
   "cell_type": "code",
   "execution_count": 28,
   "metadata": {},
   "outputs": [
    {
     "data": {
      "text/plain": [
       "['Techpro']"
      ]
     },
     "execution_count": 28,
     "metadata": {},
     "output_type": "execute_result"
    }
   ],
   "source": [
    "list_3 = [\"Techpro\"]         # 1 eleman halinde yazdirdi [\"\"] parantez kullaninca\n",
    "list_3"
   ]
  },
  {
   "cell_type": "code",
   "execution_count": 29,
   "metadata": {},
   "outputs": [
    {
     "data": {
      "text/plain": [
       "7"
      ]
     },
     "execution_count": 29,
     "metadata": {},
     "output_type": "execute_result"
    }
   ],
   "source": [
    "len (list_2)"
   ]
  },
  {
   "cell_type": "code",
   "execution_count": 30,
   "metadata": {},
   "outputs": [
    {
     "data": {
      "text/plain": [
       "1"
      ]
     },
     "execution_count": 30,
     "metadata": {},
     "output_type": "execute_result"
    }
   ],
   "source": [
    "len(list_3)"
   ]
  },
  {
   "cell_type": "code",
   "execution_count": 32,
   "metadata": {},
   "outputs": [
    {
     "data": {
      "text/plain": [
       "[2, 3.5, False, [1, 2, 3]]"
      ]
     },
     "execution_count": 32,
     "metadata": {},
     "output_type": "execute_result"
    }
   ],
   "source": [
    "list_4 = [2 , 3.5 , False, [1, 2, 3]]\n",
    "list_4\n"
   ]
  },
  {
   "cell_type": "code",
   "execution_count": 33,
   "metadata": {},
   "outputs": [
    {
     "data": {
      "text/plain": [
       "4"
      ]
     },
     "execution_count": 33,
     "metadata": {},
     "output_type": "execute_result"
    }
   ],
   "source": [
    "len(list_4)"
   ]
  },
  {
   "cell_type": "code",
   "execution_count": 34,
   "metadata": {},
   "outputs": [
    {
     "data": {
      "text/plain": [
       "[['m', 'e', 'h', 'm', 'e', 't']]"
      ]
     },
     "execution_count": 34,
     "metadata": {},
     "output_type": "execute_result"
    }
   ],
   "source": [
    "list_5 =[list(\"mehmet\")]   # liste icin 1 fonksiyon var \n",
    "list_5"
   ]
  },
  {
   "cell_type": "code",
   "execution_count": 35,
   "metadata": {},
   "outputs": [
    {
     "data": {
      "text/plain": [
       "1"
      ]
     },
     "execution_count": 35,
     "metadata": {},
     "output_type": "execute_result"
    }
   ],
   "source": [
    "len(list_5)"
   ]
  },
  {
   "cell_type": "code",
   "execution_count": 36,
   "metadata": {},
   "outputs": [],
   "source": [
    "bos_liste_1 = []"
   ]
  },
  {
   "cell_type": "code",
   "execution_count": 37,
   "metadata": {},
   "outputs": [],
   "source": [
    "bos_liste_2 = list()"
   ]
  },
  {
   "cell_type": "code",
   "execution_count": 38,
   "metadata": {},
   "outputs": [
    {
     "data": {
      "text/plain": [
       "0"
      ]
     },
     "execution_count": 38,
     "metadata": {},
     "output_type": "execute_result"
    }
   ],
   "source": [
    "len(bos_liste_1)"
   ]
  },
  {
   "cell_type": "code",
   "execution_count": 39,
   "metadata": {},
   "outputs": [
    {
     "data": {
      "text/plain": [
       "0"
      ]
     },
     "execution_count": 39,
     "metadata": {},
     "output_type": "execute_result"
    }
   ],
   "source": [
    "len(bos_liste_2)"
   ]
  },
  {
   "cell_type": "code",
   "execution_count": 65,
   "metadata": {},
   "outputs": [
    {
     "data": {
      "text/plain": [
       "1"
      ]
     },
     "execution_count": 65,
     "metadata": {},
     "output_type": "execute_result"
    }
   ],
   "source": [
    "liste_6 =[\"Fulya, mustafa, zeynep, bilkay\"]   # 1 tane string var \n",
    "len(liste_6)"
   ]
  },
  {
   "cell_type": "code",
   "execution_count": 40,
   "metadata": {},
   "outputs": [
    {
     "data": {
      "text/plain": [
       "4"
      ]
     },
     "execution_count": 40,
     "metadata": {},
     "output_type": "execute_result"
    }
   ],
   "source": [
    "liste_7 =[\"Fulya\", \"mustafa\", \"zeynep\", \"bilkay\"]      # 4 tane string var\n",
    "len(liste_7)"
   ]
  },
  {
   "cell_type": "code",
   "execution_count": 46,
   "metadata": {},
   "outputs": [
    {
     "data": {
      "text/plain": [
       "['Mehmet', 5, 'Aslan', 5, 'Mehmet', 'Mehmet', 5.0]"
      ]
     },
     "execution_count": 46,
     "metadata": {},
     "output_type": "execute_result"
    }
   ],
   "source": [
    "liste_8 =[\"Mehmet\", 5 ,\"Aslan\", 5, \"Mehmet\" ,\"Mehmet\", 5.0]\n",
    "liste_8"
   ]
  },
  {
   "cell_type": "code",
   "execution_count": 47,
   "metadata": {},
   "outputs": [
    {
     "data": {
      "text/plain": [
       "7"
      ]
     },
     "execution_count": 47,
     "metadata": {},
     "output_type": "execute_result"
    }
   ],
   "source": [
    "len(liste_8)"
   ]
  },
  {
   "cell_type": "code",
   "execution_count": 48,
   "metadata": {},
   "outputs": [
    {
     "ename": "TypeError",
     "evalue": "'int' object is not iterable",
     "output_type": "error",
     "traceback": [
      "\u001b[1;31m---------------------------------------------------------------------------\u001b[0m",
      "\u001b[1;31mTypeError\u001b[0m                                 Traceback (most recent call last)",
      "Cell \u001b[1;32mIn[48], line 1\u001b[0m\n\u001b[1;32m----> 1\u001b[0m list_9 \u001b[38;5;241m=\u001b[39m\u001b[38;5;28;43mlist\u001b[39;49m\u001b[43m(\u001b[49m\u001b[38;5;241;43m1545\u001b[39;49m\u001b[43m)\u001b[49m\n\u001b[0;32m      2\u001b[0m \u001b[38;5;28mlen\u001b[39m(list_9)\n",
      "\u001b[1;31mTypeError\u001b[0m: 'int' object is not iterable"
     ]
    }
   ],
   "source": [
    "list_9 =list(1545)      # integer oldugu icin hata verir\n",
    "len(list_9)"
   ]
  },
  {
   "cell_type": "code",
   "execution_count": 73,
   "metadata": {},
   "outputs": [
    {
     "ename": "TypeError",
     "evalue": "list expected at most 1 argument, got 2",
     "output_type": "error",
     "traceback": [
      "\u001b[1;31m---------------------------------------------------------------------------\u001b[0m",
      "\u001b[1;31mTypeError\u001b[0m                                 Traceback (most recent call last)",
      "Cell \u001b[1;32mIn[73], line 1\u001b[0m\n\u001b[1;32m----> 1\u001b[0m liste_10 \u001b[38;5;241m=\u001b[39m \u001b[38;5;28;43mlist\u001b[39;49m\u001b[43m(\u001b[49m\u001b[38;5;124;43m\"\u001b[39;49m\u001b[38;5;124;43mAli\u001b[39;49m\u001b[38;5;124;43m\"\u001b[39;49m\u001b[43m,\u001b[49m\u001b[43m \u001b[49m\u001b[38;5;124;43m\"\u001b[39;49m\u001b[38;5;124;43mMurat\u001b[39;49m\u001b[38;5;124;43m\"\u001b[39;49m\u001b[43m)\u001b[49m\n\u001b[0;32m      2\u001b[0m liste_10\n",
      "\u001b[1;31mTypeError\u001b[0m: list expected at most 1 argument, got 2"
     ]
    }
   ],
   "source": [
    "liste_10 = list(\"Ali\", \"Murat\")   # list fonksinu icerisine bir tane eleman alir\n",
    "liste_10"
   ]
  },
  {
   "cell_type": "code",
   "execution_count": 74,
   "metadata": {},
   "outputs": [
    {
     "data": {
      "text/plain": [
       "['A', 'l', 'i']"
      ]
     },
     "execution_count": 74,
     "metadata": {},
     "output_type": "execute_result"
    }
   ],
   "source": [
    "liste_10 = list(\"Ali\")\n",
    "liste_10"
   ]
  },
  {
   "cell_type": "code",
   "execution_count": 75,
   "metadata": {},
   "outputs": [
    {
     "data": {
      "text/plain": [
       "[3, 4.4, 'Orkun', False, [1, 2, 3, 4, 5]]"
      ]
     },
     "execution_count": 75,
     "metadata": {},
     "output_type": "execute_result"
    }
   ],
   "source": [
    "ortaya_karisik = [3, 4.4, \"Orkun\" , False, [1, 2, 3, 4, 5]]\n",
    "ortaya_karisik"
   ]
  },
  {
   "cell_type": "code",
   "execution_count": 76,
   "metadata": {},
   "outputs": [
    {
     "data": {
      "text/plain": [
       "3"
      ]
     },
     "execution_count": 76,
     "metadata": {},
     "output_type": "execute_result"
    }
   ],
   "source": [
    "ortaya_karisik[0]"
   ]
  },
  {
   "cell_type": "code",
   "execution_count": 77,
   "metadata": {},
   "outputs": [
    {
     "data": {
      "text/plain": [
       "[4.4, 'Orkun', False]"
      ]
     },
     "execution_count": 77,
     "metadata": {},
     "output_type": "execute_result"
    }
   ],
   "source": [
    "ortaya_karisik[1:4]     # slicing yaptik"
   ]
  },
  {
   "cell_type": "code",
   "execution_count": 78,
   "metadata": {},
   "outputs": [
    {
     "data": {
      "text/plain": [
       "'Orkun'"
      ]
     },
     "execution_count": 78,
     "metadata": {},
     "output_type": "execute_result"
    }
   ],
   "source": [
    "ortaya_karisik[2]"
   ]
  },
  {
   "cell_type": "code",
   "execution_count": 79,
   "metadata": {},
   "outputs": [
    {
     "data": {
      "text/plain": [
       "'ORKUN'"
      ]
     },
     "execution_count": 79,
     "metadata": {},
     "output_type": "execute_result"
    }
   ],
   "source": [
    "ortaya_karisik[2].upper()"
   ]
  },
  {
   "cell_type": "code",
   "execution_count": 81,
   "metadata": {},
   "outputs": [
    {
     "data": {
      "text/plain": [
       "1"
      ]
     },
     "execution_count": 81,
     "metadata": {},
     "output_type": "execute_result"
    }
   ],
   "source": [
    "ortaya_karisik[2].upper().count(\"R\")"
   ]
  },
  {
   "cell_type": "code",
   "execution_count": 82,
   "metadata": {},
   "outputs": [
    {
     "data": {
      "text/plain": [
       "[3, 4.4, 'Orkun', False, [1, 2, 3, 4, 5]]"
      ]
     },
     "execution_count": 82,
     "metadata": {},
     "output_type": "execute_result"
    }
   ],
   "source": [
    "ortaya_karisik = [3, 4.4, \"Orkun\" , False, [1, 2, 3, 4, 5]]\n",
    "ortaya_karisik"
   ]
  },
  {
   "cell_type": "code",
   "execution_count": 83,
   "metadata": {},
   "outputs": [
    {
     "data": {
      "text/plain": [
       "[1, 2, 3, 4, 5]"
      ]
     },
     "execution_count": 83,
     "metadata": {},
     "output_type": "execute_result"
    }
   ],
   "source": [
    "ortaya_karisik[4]"
   ]
  },
  {
   "cell_type": "code",
   "execution_count": 84,
   "metadata": {},
   "outputs": [
    {
     "data": {
      "text/plain": [
       "5"
      ]
     },
     "execution_count": 84,
     "metadata": {},
     "output_type": "execute_result"
    }
   ],
   "source": [
    "len(ortaya_karisik[4])"
   ]
  },
  {
   "cell_type": "code",
   "execution_count": 85,
   "metadata": {},
   "outputs": [
    {
     "data": {
      "text/plain": [
       "4"
      ]
     },
     "execution_count": 85,
     "metadata": {},
     "output_type": "execute_result"
    }
   ],
   "source": [
    "ortaya_karisik[4][3]"
   ]
  },
  {
   "cell_type": "markdown",
   "metadata": {},
   "source": [
    "odev1;\n",
    "kullanicidan boy ve kilosunu ogrenip vki durumunu yazdirin .  \n",
    "is elif else ile yaz"
   ]
  },
  {
   "cell_type": "code",
   "execution_count": 6,
   "metadata": {},
   "outputs": [
    {
     "name": "stdout",
     "output_type": "stream",
     "text": [
      "normal\n"
     ]
    }
   ],
   "source": [
    "kilo = int(input(\"kilonuzu giriniz\"))\n",
    "boy = float(input(\"boyunuzu giriniz\"))\n",
    "formul = kilo / (boy *boy)\n",
    "if 0 < formul <= 18:\n",
    "    print(\"zayif\")\n",
    "elif 18 < formul <= 24:\n",
    "    print(\"normal\")\n",
    "elif 24 <= formul <= 29:\n",
    "    print(\"kilolu\")\n",
    "else:\n",
    "    print(\"ideal kilonuz\") \n"
   ]
  },
  {
   "cell_type": "code",
   "execution_count": null,
   "metadata": {},
   "outputs": [],
   "source": [
    "odev2\n",
    "1- Kullanicidan bir sayi alin.\n",
    "2- Bu sayi 3 e bolunebiliyorsa \"tech\"\n",
    "3- 5 e bolunebiliyorsa \"pro\"\n",
    "4- Hem  5 e hemde 3 e bolunebiliyorsa\"techpro\" yazdirin.\n",
    "5- Sayi bu sartlarin hicbirine uymuyorsa sayinin kendisini yazdiran python kodunu yazin. "
   ]
  },
  {
   "cell_type": "code",
   "execution_count": 64,
   "metadata": {},
   "outputs": [
    {
     "name": "stdout",
     "output_type": "stream",
     "text": [
      "girilen deger 30\n",
      "tech\n"
     ]
    }
   ],
   "source": [
    "x = int(input(\"lutfen bir sayi giriniz\"))      # sayi 30 girdim. cozum kismen dofru ama hatalar var.\n",
    "print(\"girilen deger\", x )\n",
    "if x % 3 == 0:\n",
    "    print(\"tech\")\n",
    "elif x % 5 == 0:\n",
    "    print(\"pro\")\n",
    "elif (x % 5 == 0) and (x % 3 == 0):\n",
    "    print(\"techpro\")\n",
    "else:\n",
    "    print(x)\n"
   ]
  },
  {
   "cell_type": "code",
   "execution_count": 67,
   "metadata": {},
   "outputs": [
    {
     "name": "stdout",
     "output_type": "stream",
     "text": [
      "girilen deger 45\n",
      "techpro\n"
     ]
    }
   ],
   "source": [
    "x = int(input(\"lutfen bir sayi giriniz\"))      \n",
    "print(\"girilen deger\", x )\n",
    "if(x % 5 == 0) and (x % 3 == 0):                       # IF KISMI\n",
    "    print(\"techpro\")\n",
    "elif x % 3 == 0:\n",
    "    print(\"tech\")\n",
    "elif (x % 5 == 0):\n",
    "    print(\"pro\")\n",
    "else:\n",
    "    print(x)"
   ]
  },
  {
   "cell_type": "code",
   "execution_count": 68,
   "metadata": {},
   "outputs": [
    {
     "name": "stdout",
     "output_type": "stream",
     "text": [
      "girilen deger 10\n",
      "pro\n"
     ]
    }
   ],
   "source": [
    "x = int(input(\"lutfen bir sayi giriniz\"))      \n",
    "print(\"girilen deger\", x )\n",
    "if x % 3 == 0:\n",
    "    print(\"tech\")\n",
    "elif x % 5 == 0:                                               #ELIF KISMI\n",
    "    print(\"pro\")\n",
    "elif (x % 5 == 0) and (x % 3 == 0):\n",
    "    print(\"techpro\")\n",
    "else:\n",
    "    print(x)"
   ]
  },
  {
   "cell_type": "code",
   "execution_count": 69,
   "metadata": {},
   "outputs": [
    {
     "name": "stdout",
     "output_type": "stream",
     "text": [
      "girilen deger 6\n",
      "tech\n"
     ]
    }
   ],
   "source": [
    "x = int(input(\"lutfen bir sayi giriniz\"))      \n",
    "print(\"girilen deger\", x )\n",
    "if x % 3 == 0:                                                               # IF KISMI\n",
    "    print(\"tech\")\n",
    "elif x % 5 == 0:\n",
    "    print(\"pro\")\n",
    "elif (x % 5 == 0) and (x % 3 == 0):\n",
    "    print(\"techpro\")\n",
    "else:\n",
    "    print(x)"
   ]
  },
  {
   "cell_type": "code",
   "execution_count": 70,
   "metadata": {},
   "outputs": [
    {
     "name": "stdout",
     "output_type": "stream",
     "text": [
      "girilen deger 7\n",
      "7\n"
     ]
    }
   ],
   "source": [
    "x = int(input(\"lutfen bir sayi giriniz\"))      \n",
    "print(\"girilen deger\", x )\n",
    "if x % 3 == 0:\n",
    "    print(\"tech\")\n",
    "elif x % 5 == 0:\n",
    "    print(\"pro\")\n",
    "elif (x % 5 == 0) and (x % 3 == 0):\n",
    "    print(\"techpro\")\n",
    "else:                                                      # ELSE KISMI\n",
    "    print(x)"
   ]
  },
  {
   "cell_type": "code",
   "execution_count": null,
   "metadata": {},
   "outputs": [],
   "source": [
    "Bir sayini baska bir sayiya tam bolunebiliyor olmasi demek kalanin 0 olasi demektir.\n",
    "kalani nasil buluruz alttaki ornekte."
   ]
  },
  {
   "cell_type": "code",
   "execution_count": 50,
   "metadata": {},
   "outputs": [
    {
     "data": {
      "text/plain": [
       "0"
      ]
     },
     "execution_count": 50,
     "metadata": {},
     "output_type": "execute_result"
    }
   ],
   "source": [
    "6 % 3     #  6  3 e tam bolunebilir kalanida 0 "
   ]
  },
  {
   "cell_type": "code",
   "execution_count": 49,
   "metadata": {},
   "outputs": [
    {
     "data": {
      "text/plain": [
       "True"
      ]
     },
     "execution_count": 49,
     "metadata": {},
     "output_type": "execute_result"
    }
   ],
   "source": [
    "6 % 3 == 0   # "
   ]
  },
  {
   "cell_type": "code",
   "execution_count": null,
   "metadata": {},
   "outputs": [],
   "source": [
    "odev2:\n",
    "1- Kullanicidan bir sayi alin\n",
    "2-Bu sayi 3'e bolunebiliyorsa \"Tech\",\n",
    "3- 5 e boulunebiliyorsa \"pro\",\n",
    "4- Hem 5 e hem de 3 e bolunebiliyorsa \"Techpro\"yazdirin.\n",
    "5- Sayi bu kosullardan hicbirini saglamiyorsa sayinin kendisini yazdiran python kodunu yaziniz"
   ]
  },
  {
   "cell_type": "code",
   "execution_count": 1,
   "metadata": {},
   "outputs": [
    {
     "name": "stdout",
     "output_type": "stream",
     "text": [
      "girilen deger: 45\n",
      "Techpro\n"
     ]
    }
   ],
   "source": [
    "x = int(input(\"Lutfen bir sayi giriniz\"))\n",
    "print(\"girilen deger:\", x)\n",
    "if( x % 5 == 0) and (x % 3 == 0):\n",
    "    print(\"Techpro\")\n",
    "elif x % 5 == 0:\n",
    "    print(\"Tech\")\n",
    "elif x % 3 == 0:\n",
    "    print(\"pro\")\n",
    "else:\n",
    "    print()"
   ]
  }
 ],
 "metadata": {
  "kernelspec": {
   "display_name": "Python 3",
   "language": "python",
   "name": "python3"
  },
  "language_info": {
   "codemirror_mode": {
    "name": "ipython",
    "version": 3
   },
   "file_extension": ".py",
   "mimetype": "text/x-python",
   "name": "python",
   "nbconvert_exporter": "python",
   "pygments_lexer": "ipython3",
   "version": "3.11.8"
  }
 },
 "nbformat": 4,
 "nbformat_minor": 2
}
