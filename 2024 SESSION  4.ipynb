{
 "cells": [
  {
   "cell_type": "markdown",
   "metadata": {},
   "source": [
    "### Print ( Function)"
   ]
  },
  {
   "cell_type": "markdown",
   "metadata": {},
   "source": [
    "## Bir kenari 5 diger kenari 12 olan dik ucgenin hipotenusunu bulan python kodunu yaziniz."
   ]
  },
  {
   "cell_type": "code",
   "execution_count": 5,
   "metadata": {},
   "outputs": [
    {
     "name": "stdout",
     "output_type": "stream",
     "text": [
      "bir kenari 5 bir kenari 12 olan ucgenin hipotenusu: 13.0\n"
     ]
    }
   ],
   "source": [
    "kenar_1 = 5\n",
    "kenar_2 = 12\n",
    "hypo = (kenar_1 ** 2 + kenar_2 ** 2 ) ** 0.5\n",
    "print(\"bir kenari 5 bir kenari 12 olan ucgenin hipotenusu:\", hypo)\n"
   ]
  },
  {
   "cell_type": "markdown",
   "metadata": {},
   "source": [
    "# PRINT () FUNCTIONS"
   ]
  },
  {
   "cell_type": "markdown",
   "metadata": {},
   "source": [
    "Birden fazla degiskeni veya degeri icine yazabiliriz"
   ]
  },
  {
   "cell_type": "code",
   "execution_count": 7,
   "metadata": {},
   "outputs": [
    {
     "name": "stdout",
     "output_type": "stream",
     "text": [
      "techpro education\n"
     ]
    }
   ],
   "source": [
    "print(\"techpro education\")"
   ]
  },
  {
   "cell_type": "code",
   "execution_count": 8,
   "metadata": {},
   "outputs": [
    {
     "name": "stdout",
     "output_type": "stream",
     "text": [
      " mikail serhan mustafa\n"
     ]
    }
   ],
   "source": [
    "print(\" mikail\", \"serhan\" , \"mustafa\" )"
   ]
  },
  {
   "cell_type": "markdown",
   "metadata": {},
   "source": [
    "#Sep function(seperator)"
   ]
  },
  {
   "cell_type": "code",
   "execution_count": 12,
   "metadata": {},
   "outputs": [
    {
     "name": "stdout",
     "output_type": "stream",
     "text": [
      "mikail**serhan**mustafa\n"
     ]
    }
   ],
   "source": [
    "print (\"mikail\", \"serhan\", \"mustafa\", sep =\"**\")"
   ]
  },
  {
   "cell_type": "code",
   "execution_count": 14,
   "metadata": {},
   "outputs": [
    {
     "name": "stdout",
     "output_type": "stream",
     "text": [
      "mikail   serhan   mustafa\n"
     ]
    }
   ],
   "source": [
    "print (\"mikail\", \"serhan\", \"mustafa\", sep =\"   \")"
   ]
  },
  {
   "cell_type": "code",
   "execution_count": 15,
   "metadata": {},
   "outputs": [
    {
     "name": "stdout",
     "output_type": "stream",
     "text": [
      "mikail-serhan-mustafa\n"
     ]
    }
   ],
   "source": [
    "print (\"mikail\", \"serhan\", \"mustafa\", sep =\"-\")"
   ]
  },
  {
   "cell_type": "code",
   "execution_count": 16,
   "metadata": {},
   "outputs": [
    {
     "name": "stdout",
     "output_type": "stream",
     "text": [
      "mikail-and-serhan-and-mustafa\n"
     ]
    }
   ],
   "source": [
    "print (\"mikail\", \"serhan\", \"mustafa\", sep =\"-and-\")"
   ]
  },
  {
   "cell_type": "code",
   "execution_count": 22,
   "metadata": {},
   "outputs": [
    {
     "name": "stdout",
     "output_type": "stream",
     "text": [
      "mikail😀serhan😀mustafa\n"
     ]
    }
   ],
   "source": [
    "print (\"mikail\", \"serhan\", \"mustafa\", sep =\"\\U0001F600\")"
   ]
  },
  {
   "cell_type": "code",
   "execution_count": 23,
   "metadata": {},
   "outputs": [
    {
     "name": "stdout",
     "output_type": "stream",
     "text": [
      "mikail\n"
     ]
    }
   ],
   "source": [
    "print (\"mikail\", sep =\"\\U0001F600\")   # bunu sep yapamaz cunku yaninda bi degisken yok"
   ]
  },
  {
   "cell_type": "code",
   "execution_count": 24,
   "metadata": {},
   "outputs": [
    {
     "name": "stdout",
     "output_type": "stream",
     "text": [
      "\n"
     ]
    }
   ],
   "source": [
    "print()"
   ]
  },
  {
   "cell_type": "code",
   "execution_count": 25,
   "metadata": {},
   "outputs": [
    {
     "name": "stdout",
     "output_type": "stream",
     "text": [
      "Help on built-in function print in module builtins:\n",
      "\n",
      "print(*args, sep=' ', end='\\n', file=None, flush=False)\n",
      "    Prints the values to a stream, or to sys.stdout by default.\n",
      "    \n",
      "    sep\n",
      "      string inserted between values, default a space.\n",
      "    end\n",
      "      string appended after the last value, default a newline.\n",
      "    file\n",
      "      a file-like object (stream); defaults to the current sys.stdout.\n",
      "    flush\n",
      "      whether to forcibly flush the stream.\n",
      "\n"
     ]
    }
   ],
   "source": [
    "help(print)"
   ]
  },
  {
   "cell_type": "code",
   "execution_count": 26,
   "metadata": {},
   "outputs": [
    {
     "name": "stdout",
     "output_type": "stream",
     "text": [
      "Orkun\n",
      "Sedat\n",
      "Aytac\n"
     ]
    }
   ],
   "source": [
    "print (\"Orkun\")\n",
    "print(\"Sedat\")\n",
    "print(\"Aytac\")"
   ]
  },
  {
   "cell_type": "code",
   "execution_count": 28,
   "metadata": {},
   "outputs": [
    {
     "name": "stdout",
     "output_type": "stream",
     "text": [
      "Orkun**Sedat\n",
      "Aytac\n"
     ]
    }
   ],
   "source": [
    "print (\"Orkun\", end =\"**\")\n",
    "print(\"Sedat\")\n",
    "print(\"Aytac\")"
   ]
  },
  {
   "cell_type": "code",
   "execution_count": 29,
   "metadata": {},
   "outputs": [
    {
     "name": "stdout",
     "output_type": "stream",
     "text": [
      "Betul!!Zeynep\n"
     ]
    }
   ],
   "source": [
    "print(\"Betul\", end =\"!!\")\n",
    "print(\"Zeynep\")"
   ]
  },
  {
   "cell_type": "code",
   "execution_count": 32,
   "metadata": {},
   "outputs": [
    {
     "name": "stdout",
     "output_type": "stream",
     "text": [
      "Betul!!Zeynep*Mustafa--Ali\n"
     ]
    }
   ],
   "source": [
    "print(\"Betul\", end =\"!!\")\n",
    "print(\"Zeynep\", end = \"*\")\n",
    "print(\"Mustafa\", \"Ali\", sep = \"--\")"
   ]
  },
  {
   "cell_type": "code",
   "execution_count": 33,
   "metadata": {},
   "outputs": [
    {
     "name": "stdout",
     "output_type": "stream",
     "text": [
      "Betul!!Zeynep*Mustafa--Ali%%%"
     ]
    }
   ],
   "source": [
    "print(\"Betul\", end =\"!!\")\n",
    "print(\"Zeynep\", end = \"*\")\n",
    "print(\"Mustafa\", \"Ali\", sep = \"--\", end =\"%%%\")"
   ]
  },
  {
   "cell_type": "code",
   "execution_count": 38,
   "metadata": {},
   "outputs": [
    {
     "name": "stdout",
     "output_type": "stream",
     "text": [
      "elma\n",
      "armut\n",
      " portakal\n"
     ]
    }
   ],
   "source": [
    "print(\"elma\",\"armut\",\" portakal\", sep =\"\\n\")     #      (\\n) new line acar.kod bir satir alta iner."
   ]
  },
  {
   "cell_type": "code",
   "execution_count": 40,
   "metadata": {},
   "outputs": [
    {
     "name": "stdout",
     "output_type": "stream",
     "text": [
      "hello world--35**40**75\n",
      "son satir\n"
     ]
    }
   ],
   "source": [
    "print(\"hello world\", end = \"--\")\n",
    "print(\"35\", 40, \"75\", sep = \"**\")\n",
    "print(\"son satir\")"
   ]
  },
  {
   "cell_type": "markdown",
   "metadata": {},
   "source": [
    "# INPUT () FUNCTIONS"
   ]
  },
  {
   "cell_type": "markdown",
   "metadata": {},
   "source": [
    "INPUT ; Disaridan veri almamizi saglar."
   ]
  },
  {
   "cell_type": "code",
   "execution_count": 1,
   "metadata": {},
   "outputs": [
    {
     "data": {
      "text/plain": [
       "<bound method Kernel.raw_input of <ipykernel.ipkernel.IPythonKernel object at 0x00000242CB271F50>>"
      ]
     },
     "execution_count": 1,
     "metadata": {},
     "output_type": "execute_result"
    }
   ],
   "source": [
    "input"
   ]
  },
  {
   "cell_type": "code",
   "execution_count": 2,
   "metadata": {},
   "outputs": [
    {
     "data": {
      "text/plain": [
       "'45'"
      ]
     },
     "execution_count": 2,
     "metadata": {},
     "output_type": "execute_result"
    }
   ],
   "source": [
    "input()"
   ]
  },
  {
   "cell_type": "code",
   "execution_count": 3,
   "metadata": {},
   "outputs": [
    {
     "data": {
      "text/plain": [
       "'true'"
      ]
     },
     "execution_count": 3,
     "metadata": {},
     "output_type": "execute_result"
    }
   ],
   "source": [
    "input()"
   ]
  },
  {
   "cell_type": "code",
   "execution_count": null,
   "metadata": {},
   "outputs": [],
   "source": [
    "input()   # input ile alinan veriler stringdir"
   ]
  },
  {
   "cell_type": "code",
   "execution_count": 4,
   "metadata": {},
   "outputs": [
    {
     "data": {
      "text/plain": [
       "'45'"
      ]
     },
     "execution_count": 4,
     "metadata": {},
     "output_type": "execute_result"
    }
   ],
   "source": [
    "input(\"Lutfen yasinizi girin\")"
   ]
  },
  {
   "cell_type": "code",
   "execution_count": 6,
   "metadata": {},
   "outputs": [],
   "source": [
    "age = input(\"Lutfen yasinizi girin\")"
   ]
  },
  {
   "cell_type": "code",
   "execution_count": 7,
   "metadata": {},
   "outputs": [
    {
     "data": {
      "text/plain": [
       "'45'"
      ]
     },
     "execution_count": 7,
     "metadata": {},
     "output_type": "execute_result"
    }
   ],
   "source": [
    "age"
   ]
  },
  {
   "cell_type": "code",
   "execution_count": 8,
   "metadata": {},
   "outputs": [
    {
     "ename": "TypeError",
     "evalue": "unsupported operand type(s) for -: 'int' and 'str'",
     "output_type": "error",
     "traceback": [
      "\u001b[1;31m---------------------------------------------------------------------------\u001b[0m",
      "\u001b[1;31mTypeError\u001b[0m                                 Traceback (most recent call last)",
      "Cell \u001b[1;32mIn[8], line 1\u001b[0m\n\u001b[1;32m----> 1\u001b[0m \u001b[38;5;241;43m2024\u001b[39;49m\u001b[43m \u001b[49m\u001b[38;5;241;43m-\u001b[39;49m\u001b[43m \u001b[49m\u001b[43mage\u001b[49m\n",
      "\u001b[1;31mTypeError\u001b[0m: unsupported operand type(s) for -: 'int' and 'str'"
     ]
    }
   ],
   "source": [
    "2024 - age    # hata verir cunku  (age) dedigimiz degisken inputla geldi ve inputun degeri string."
   ]
  },
  {
   "cell_type": "code",
   "execution_count": 9,
   "metadata": {},
   "outputs": [
    {
     "data": {
      "text/plain": [
       "1979"
      ]
     },
     "execution_count": 9,
     "metadata": {},
     "output_type": "execute_result"
    }
   ],
   "source": [
    "age = int(age)       # type convertion kullanicagiz.age degiskenini  integer'a ceviririz\n",
    "2024 - age"
   ]
  },
  {
   "cell_type": "code",
   "execution_count": 50,
   "metadata": {},
   "outputs": [
    {
     "data": {
      "text/plain": [
       "int"
      ]
     },
     "execution_count": 50,
     "metadata": {},
     "output_type": "execute_result"
    }
   ],
   "source": [
    "type(age)"
   ]
  },
  {
   "cell_type": "code",
   "execution_count": 10,
   "metadata": {},
   "outputs": [
    {
     "data": {
      "text/plain": [
       "1979"
      ]
     },
     "execution_count": 10,
     "metadata": {},
     "output_type": "execute_result"
    }
   ],
   "source": [
    "2024 - int (age)     # buda diger yontem birdaha kullanmayacaksam."
   ]
  },
  {
   "cell_type": "code",
   "execution_count": 11,
   "metadata": {},
   "outputs": [],
   "source": [
    "age_1 = int (input(\"Lutfen yasinizi girin\"))"
   ]
  },
  {
   "cell_type": "code",
   "execution_count": 12,
   "metadata": {},
   "outputs": [
    {
     "data": {
      "text/plain": [
       "int"
      ]
     },
     "execution_count": 12,
     "metadata": {},
     "output_type": "execute_result"
    }
   ],
   "source": [
    "type(age_1)"
   ]
  },
  {
   "cell_type": "code",
   "execution_count": 20,
   "metadata": {},
   "outputs": [
    {
     "ename": "ValueError",
     "evalue": "invalid literal for int() with base 10: 'otuz iki'",
     "output_type": "error",
     "traceback": [
      "\u001b[1;31m---------------------------------------------------------------------------\u001b[0m",
      "\u001b[1;31mValueError\u001b[0m                                Traceback (most recent call last)",
      "Cell \u001b[1;32mIn[20], line 1\u001b[0m\n\u001b[1;32m----> 1\u001b[0m age_2 \u001b[38;5;241m=\u001b[39m \u001b[38;5;28;43mint\u001b[39;49m\u001b[43m  \u001b[49m\u001b[43m(\u001b[49m\u001b[43m \u001b[49m\u001b[38;5;28;43minput\u001b[39;49m\u001b[43m(\u001b[49m\u001b[38;5;124;43m\"\u001b[39;49m\u001b[38;5;124;43mLutfen yasinizi girin\u001b[39;49m\u001b[38;5;124;43m\"\u001b[39;49m\u001b[43m)\u001b[49m\u001b[43m)\u001b[49m      \u001b[38;5;66;03m# yazi ile otuz iki girdik integera benazemedigi icin error verdi.\u001b[39;00m\n",
      "\u001b[1;31mValueError\u001b[0m: invalid literal for int() with base 10: 'otuz iki'"
     ]
    }
   ],
   "source": [
    "age_2 = int  ( input(\"Lutfen yasinizi girin\"))      # yazi ile otuz iki girdik integera benazemedigi icin error verdi."
   ]
  },
  {
   "cell_type": "code",
   "execution_count": 23,
   "metadata": {},
   "outputs": [],
   "source": [
    "age_3 = int  ( input(\"Lutfen yasinizi rakamlarla girin. Ornegin: 32\"))    #calisir boyle"
   ]
  },
  {
   "cell_type": "code",
   "execution_count": 68,
   "metadata": {},
   "outputs": [
    {
     "name": "stdout",
     "output_type": "stream",
     "text": [
      "Dogum yiliniz: 1979\n"
     ]
    }
   ],
   "source": [
    "age_1 = input(\" Lutfen yasinizi giriniz\")\n",
    "age_1 = int(age_1)\n",
    "dogum_yili = 2024 - age_1\n",
    "print(\"Dogum yiliniz:\", dogum_yili)"
   ]
  },
  {
   "cell_type": "markdown",
   "metadata": {},
   "source": [
    "Kullanıcıdan kilo ve boy bilgisini alan ve girilen bilgilere göre vücut kitle indeksini(vki) hesaplayan kodu yazın"
   ]
  },
  {
   "cell_type": "markdown",
   "metadata": {},
   "source": [
    "Kullanicidan kilo ve boy bilgisini alan ve girilen bilgilere gore vucut indeksini (vki) hesaplayan kodu yaziniz||"
   ]
  },
  {
   "cell_type": "code",
   "execution_count": 26,
   "metadata": {},
   "outputs": [
    {
     "ename": "TypeError",
     "evalue": "unsupported operand type(s) for ** or pow(): 'str' and 'int'",
     "output_type": "error",
     "traceback": [
      "\u001b[1;31m---------------------------------------------------------------------------\u001b[0m",
      "\u001b[1;31mTypeError\u001b[0m                                 Traceback (most recent call last)",
      "Cell \u001b[1;32mIn[26], line 3\u001b[0m\n\u001b[0;32m      1\u001b[0m kilo \u001b[38;5;241m=\u001b[39m \u001b[38;5;28minput\u001b[39m(\u001b[38;5;124m\"\u001b[39m\u001b[38;5;124mlutfen kilonuzu giriniz\u001b[39m\u001b[38;5;124m\"\u001b[39m)\n\u001b[0;32m      2\u001b[0m boy \u001b[38;5;241m=\u001b[39m \u001b[38;5;28minput\u001b[39m(\u001b[38;5;124m\"\u001b[39m\u001b[38;5;124mlutfen boyunuzu giriniz\u001b[39m\u001b[38;5;124m\"\u001b[39m)\n\u001b[1;32m----> 3\u001b[0m vki \u001b[38;5;241m=\u001b[39m kilo \u001b[38;5;241m/\u001b[39m (\u001b[43mboy\u001b[49m\u001b[43m \u001b[49m\u001b[38;5;241;43m*\u001b[39;49m\u001b[38;5;241;43m*\u001b[39;49m\u001b[43m \u001b[49m\u001b[38;5;241;43m2\u001b[39;49m)\n\u001b[0;32m      4\u001b[0m \u001b[38;5;28mprint\u001b[39m(vki)\n",
      "\u001b[1;31mTypeError\u001b[0m: unsupported operand type(s) for ** or pow(): 'str' and 'int'"
     ]
    }
   ],
   "source": [
    "kilo = input(\"lutfen kilonuzu giriniz\")    #girilecek olan degerlerin cinsini yaziniz.ornek, kg, lb,poud gibi\n",
    "boy = input(\"lutfen boyunuzu giriniz\")\n",
    "vki = kilo / (boy ** 2)\n",
    "print(vki)"
   ]
  },
  {
   "cell_type": "code",
   "execution_count": 37,
   "metadata": {},
   "outputs": [
    {
     "ename": "TypeError",
     "evalue": "unsupported operand type(s) for ** or pow(): 'str' and 'int'",
     "output_type": "error",
     "traceback": [
      "\u001b[1;31m---------------------------------------------------------------------------\u001b[0m",
      "\u001b[1;31mTypeError\u001b[0m                                 Traceback (most recent call last)",
      "Cell \u001b[1;32mIn[37], line 3\u001b[0m\n\u001b[0;32m      1\u001b[0m kilo \u001b[38;5;241m=\u001b[39m (\u001b[38;5;28minput\u001b[39m(\u001b[38;5;124m\"\u001b[39m\u001b[38;5;124mLutfen kilonuzu kg cinsinden giriniz\u001b[39m\u001b[38;5;124m\"\u001b[39m))   \u001b[38;5;66;03m# veri tipi string o yuzden error verdi\u001b[39;00m\n\u001b[0;32m      2\u001b[0m boy \u001b[38;5;241m=\u001b[39m (\u001b[38;5;28minput\u001b[39m(\u001b[38;5;124m\"\u001b[39m\u001b[38;5;124mLutfen boyunuzu cm cinsinden giriniz\u001b[39m\u001b[38;5;124m\"\u001b[39m))\n\u001b[1;32m----> 3\u001b[0m vki \u001b[38;5;241m=\u001b[39m kilo \u001b[38;5;241m/\u001b[39m ( \u001b[43mboy\u001b[49m\u001b[43m  \u001b[49m\u001b[38;5;241;43m*\u001b[39;49m\u001b[38;5;241;43m*\u001b[39;49m\u001b[38;5;241;43m2\u001b[39;49m )\n\u001b[0;32m      4\u001b[0m \u001b[38;5;28mprint\u001b[39m(vki)\n",
      "\u001b[1;31mTypeError\u001b[0m: unsupported operand type(s) for ** or pow(): 'str' and 'int'"
     ]
    }
   ],
   "source": [
    "kilo = (input(\"Lutfen kilonuzu kg cinsinden giriniz\"))   # veri tipi string o yuzden error verdi\n",
    "boy = (input(\"Lutfen boyunuzu cm cinsinden giriniz\"))\n",
    "vki = kilo / ( boy  **2 )\n",
    "print(vki)"
   ]
  },
  {
   "cell_type": "code",
   "execution_count": 47,
   "metadata": {},
   "outputs": [
    {
     "name": "stdout",
     "output_type": "stream",
     "text": [
      "0.0030004149510038623\n"
     ]
    }
   ],
   "source": [
    "kilo = int(input(\"Lutfen kilonuzu kg cinsinden giriniz\"))     # HATA VERIR CUNKU CM CINSINDEN GIRDIK\n",
    "boy = int(input(\"Lutfen boyunuzu cm cinsinden giriniz\"))\n",
    "vki =kilo / (boy  **2 )   # BOY BILGISI METRE CINSINDEN OLMALI\n",
    "print(vki)"
   ]
  },
  {
   "cell_type": "code",
   "execution_count": 50,
   "metadata": {},
   "outputs": [
    {
     "name": "stdout",
     "output_type": "stream",
     "text": [
      "0.0030004149510038623\n"
     ]
    }
   ],
   "source": [
    "Kilo = int (input (\"Lutfen kilonuzu kg cinsinden giriniz\"))   \n",
    "boy = int (input (\"Lutfen boyunuzu metre cinsinden giriniz\"))\n",
    "vki =kilo / ( boy ** 2 )\n",
    "print(vki)"
   ]
  },
  {
   "cell_type": "code",
   "execution_count": 53,
   "metadata": {},
   "outputs": [
    {
     "name": "stdout",
     "output_type": "stream",
     "text": [
      "29.68495643014459\n"
     ]
    }
   ],
   "source": [
    "iklo = int(input(\"Lutfen kilonuzu kg cinsinden giriniz\"))\n",
    "boy = int(input(\"Lutfen boyunuzu metre cinsinden giriniz\"))\n",
    "vki =kilo / (boy / 100) **2 #cm den metreye cevirmek icin boy/100 olur\n",
    "print(vki)"
   ]
  },
  {
   "cell_type": "markdown",
   "metadata": {},
   "source": [
    "ESCAPE SEQUENCES"
   ]
  },
  {
   "cell_type": "code",
   "execution_count": 90,
   "metadata": {},
   "outputs": [
    {
     "name": "stdout",
     "output_type": "stream",
     "text": [
      "i'm a python teacher\n"
     ]
    }
   ],
   "source": [
    "print(\"i'm a python teacher\")"
   ]
  },
  {
   "cell_type": "code",
   "execution_count": 91,
   "metadata": {},
   "outputs": [
    {
     "name": "stdout",
     "output_type": "stream",
     "text": [
      "I'm a python teacher\n"
     ]
    }
   ],
   "source": [
    "print('I\\'m a python teacher')"
   ]
  },
  {
   "cell_type": "code",
   "execution_count": 92,
   "metadata": {},
   "outputs": [
    {
     "name": "stdout",
     "output_type": "stream",
     "text": [
      "Bu ders cok uzadi sanki.Bi anca bitse mi acaba\n"
     ]
    }
   ],
   "source": [
    "print(\"Bu ders cok uzadi sanki.Bi anca bitse mi acaba\")"
   ]
  },
  {
   "cell_type": "code",
   "execution_count": 93,
   "metadata": {},
   "outputs": [
    {
     "name": "stdout",
     "output_type": "stream",
     "text": [
      "Bu ders cok uzadi sanki.\n",
      "Bi anca bitse mi acaba\n"
     ]
    }
   ],
   "source": [
    "print(\"Bu ders cok uzadi sanki.\\nBi anca bitse mi acaba\")        #(\\n) yeni satira gecer"
   ]
  },
  {
   "cell_type": "code",
   "execution_count": 94,
   "metadata": {},
   "outputs": [
    {
     "name": "stdout",
     "output_type": "stream",
     "text": [
      "Bu ders cok uzadi sanki.\n",
      "Bi anca bitse mi acaba\n"
     ]
    }
   ],
   "source": [
    "print(\"\"\"Bu ders cok uzadi sanki.\\nBi anca bitse mi acaba\"\"\")  "
   ]
  },
  {
   "cell_type": "code",
   "execution_count": 95,
   "metadata": {},
   "outputs": [
    {
     "name": "stdout",
     "output_type": "stream",
     "text": [
      "Betul\tAytac\tAyse\n"
     ]
    }
   ],
   "source": [
    "print(\"Betul\", \"Aytac\",\"Ayse\", sep = \"\\t\")           # \\t bir tab tusuna basmak anlamina gelir"
   ]
  },
  {
   "cell_type": "code",
   "execution_count": 96,
   "metadata": {},
   "outputs": [
    {
     "name": "stdout",
     "output_type": "stream",
     "text": [
      "Bu ders cok uzadi sankiBi anca bitse mi acaba\n"
     ]
    }
   ],
   "source": [
    "print(\"Bu ders cok uzadi sanki.\\bBi anca bitse mi acaba\")     #\\b "
   ]
  },
  {
   "cell_type": "code",
   "execution_count": 97,
   "metadata": {},
   "outputs": [
    {
     "name": "stdout",
     "output_type": "stream",
     "text": [
      "BetuAytaAyse\n"
     ]
    }
   ],
   "source": [
    "print(\"Betul\", \"Aytac\",\"Ayse\", sep = \"\\b\")    # son harfler silinir son isim haric"
   ]
  },
  {
   "cell_type": "code",
   "execution_count": 100,
   "metadata": {},
   "outputs": [
    {
     "name": "stdout",
     "output_type": "stream",
     "text": [
      "Bizde geri \\nvites olmaz \n"
     ]
    }
   ],
   "source": [
    "print(r\"Bizde geri \\nvites olmaz \")"
   ]
  },
  {
   "cell_type": "code",
   "execution_count": 101,
   "metadata": {},
   "outputs": [
    {
     "name": "stdout",
     "output_type": "stream",
     "text": [
      "Bizde geri vites olmaz \n"
     ]
    }
   ],
   "source": [
    "print(r\"Bizde geri vites olmaz \")"
   ]
  },
  {
   "cell_type": "markdown",
   "metadata": {},
   "source": []
  },
  {
   "cell_type": "markdown",
   "metadata": {},
   "source": [
    "##Kullanıcıdan Celcius bilgisini alın ve fahrenheit a çevirin"
   ]
  },
  {
   "cell_type": "code",
   "execution_count": 60,
   "metadata": {},
   "outputs": [
    {
     "ename": "NameError",
     "evalue": "name 'cfahrenheit' is not defined",
     "output_type": "error",
     "traceback": [
      "\u001b[1;31m---------------------------------------------------------------------------\u001b[0m",
      "\u001b[1;31mNameError\u001b[0m                                 Traceback (most recent call last)",
      "Cell \u001b[1;32mIn[60], line 3\u001b[0m\n\u001b[0;32m      1\u001b[0m celsius \u001b[38;5;241m=\u001b[39m \u001b[38;5;28minput\u001b[39m (\u001b[38;5;124m\"\u001b[39m\u001b[38;5;124m30 degree celsius\u001b[39m\u001b[38;5;124m\"\u001b[39m)\n\u001b[0;32m      2\u001b[0m celsius \u001b[38;5;241m=\u001b[39m \u001b[38;5;28mfloat\u001b[39m( \u001b[38;5;241m30\u001b[39m \u001b[38;5;241m*\u001b[39m \u001b[38;5;241m1.8\u001b[39m \u001b[38;5;241m+\u001b[39m \u001b[38;5;241m32\u001b[39m )\n\u001b[1;32m----> 3\u001b[0m \u001b[38;5;28mprint\u001b[39m (\u001b[43mcfahrenheit\u001b[49m)\n",
      "\u001b[1;31mNameError\u001b[0m: name 'cfahrenheit' is not defined"
     ]
    }
   ],
   "source": [
    "celsius = input (\"30 degree celsius\")\n",
    "celsius = float(  * 1.8 + 32 )\n",
    "print (fahrenheit)"
   ]
  }
 ],
 "metadata": {
  "kernelspec": {
   "display_name": "Python 3",
   "language": "python",
   "name": "python3"
  },
  "language_info": {
   "codemirror_mode": {
    "name": "ipython",
    "version": 3
   },
   "file_extension": ".py",
   "mimetype": "text/x-python",
   "name": "python",
   "nbconvert_exporter": "python",
   "pygments_lexer": "ipython3",
   "version": "3.11.7"
  }
 },
 "nbformat": 4,
 "nbformat_minor": 2
}
